{
 "cells": [
  {
   "cell_type": "code",
   "execution_count": 1,
   "metadata": {},
   "outputs": [
    {
     "name": "stderr",
     "output_type": "stream",
     "text": [
      "Loading images: 100%|██████████| 50000/50000 [00:24<00:00, 2049.95it/s]\n"
     ]
    },
    {
     "name": "stdout",
     "output_type": "stream",
     "text": [
      "Applying PCA for dimensionality reduction...\n",
      "Training the SVM model...\n"
     ]
    }
   ],
   "source": [
    "import pandas as pd\n",
    "import numpy as np\n",
    "import os\n",
    "from sklearn.svm import SVC\n",
    "from sklearn.decomposition import PCA\n",
    "from sklearn.preprocessing import StandardScaler\n",
    "from sklearn.pipeline import make_pipeline\n",
    "from sklearn.model_selection import train_test_split\n",
    "from sklearn.metrics import classification_report\n",
    "from skimage.io import imread\n",
    "from tqdm import tqdm\n",
    "\n",
    "# Define constants\n",
    "IMAGE_SIZE = (32, 32)  # Image size is already 32x32\n",
    "RANDOM_STATE = 42\n",
    "N_COMPONENTS = 100  # Number of principal components to keep\n",
    "\n",
    "# Paths to files and folders\n",
    "base_path = '/Users/zhao0725/Desktop/COMP3314/Assignment3/image-classification-challenge'\n",
    "train_csv_path = os.path.join(base_path, 'train.csv')\n",
    "test_csv_path = os.path.join(base_path, 'test.csv')\n",
    "train_ims_path = os.path.join(base_path, 'train_ims')\n",
    "test_ims_path = os.path.join(base_path, 'test_ims')\n",
    "\n",
    "# Load training data\n",
    "train_df = pd.read_csv(train_csv_path)\n",
    "\n",
    "# Function to load and preprocess images\n",
    "def load_images(image_folder, image_filenames, image_size):\n",
    "    images = []\n",
    "    for filename in tqdm(image_filenames, desc=\"Loading images\"):\n",
    "        img_path = os.path.join(image_folder, filename)\n",
    "        img = imread(img_path, as_gray=True)  # Load as grayscale\n",
    "        images.append(img.flatten())  # Flatten to 1D array (already 32x32, so no resize needed)\n",
    "    return np.array(images)\n",
    "\n",
    "# Load training images and labels\n",
    "train_images = load_images(train_ims_path, train_df['im_name'], IMAGE_SIZE)\n",
    "train_labels = train_df['label'].values\n",
    "\n",
    "# Apply PCA to reduce dimensionality\n",
    "print(\"Applying PCA for dimensionality reduction...\")\n",
    "scaler = StandardScaler()\n",
    "train_images_scaled = scaler.fit_transform(train_images)  # Standardize the data\n",
    "\n",
    "pca = PCA(n_components=N_COMPONENTS, random_state=RANDOM_STATE)\n",
    "train_images_pca = pca.fit_transform(train_images_scaled)\n",
    "\n",
    "# Split into training and validation sets\n",
    "X_train, X_val, y_train, y_val = train_test_split(\n",
    "    train_images_pca, train_labels, test_size=0.2, random_state=RANDOM_STATE\n",
    ")\n",
    "\n",
    "# Create an SVM model\n",
    "svm_model = SVC(kernel='linear', random_state=RANDOM_STATE)\n",
    "\n",
    "# Train the model\n",
    "print(\"Training the SVM model...\")\n",
    "svm_model.fit(X_train, y_train)\n",
    "\n",
    "# Validate the model\n",
    "print(\"Validating the model...\")\n",
    "y_val_pred = svm_model.predict(X_val)\n",
    "print(classification_report(y_val, y_val_pred))\n",
    "\n",
    "# Load test images\n",
    "test_df = pd.read_csv(test_csv_path)\n",
    "test_images = load_images(test_ims_path, test_df['im_name'], IMAGE_SIZE)\n",
    "\n",
    "# Apply PCA to test images\n",
    "test_images_scaled = scaler.transform(test_images)  # Use the same scaler as training\n",
    "test_images_pca = pca.transform(test_images_scaled)\n",
    "\n",
    "# Make predictions on test images\n",
    "print(\"Making predictions on test images...\")\n",
    "test_predictions = svm_model.predict(test_images_pca)\n",
    "\n",
    "# Add predictions to the test DataFrame\n",
    "test_df['label'] = test_predictions\n",
    "\n",
    "# Save the updated test DataFrame\n",
    "output_csv_path = os.path.join(base_path, 'test_predictions.csv')\n",
    "test_df.to_csv(output_csv_path, index=False)\n",
    "print(f\"Predictions saved to {output_csv_path}.\")\n"
   ]
  }
 ],
 "metadata": {
  "kernelspec": {
   "display_name": "Python 3",
   "language": "python",
   "name": "python3"
  },
  "language_info": {
   "codemirror_mode": {
    "name": "ipython",
    "version": 3
   },
   "file_extension": ".py",
   "mimetype": "text/x-python",
   "name": "python",
   "nbconvert_exporter": "python",
   "pygments_lexer": "ipython3",
   "version": "3.10.5"
  }
 },
 "nbformat": 4,
 "nbformat_minor": 2
}
