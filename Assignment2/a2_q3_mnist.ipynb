{
 "cells": [
  {
   "cell_type": "markdown",
   "metadata": {
    "id": "0AUwbFEaMiWi"
   },
   "source": [
    "# COMP3314 Assignment2-Q3: Dimension Reduction (30 Points）\n",
    "\n",
    "In this part, you are required to conduct dimension reduction.\n",
    "\n",
    "1. draw digits\n",
    "2. pca before and after, draw digits\n",
    "3. t-sne\n",
    "4. 2-d pca\n",
    "5. PCA evaluation"
   ]
  },
  {
   "cell_type": "markdown",
   "metadata": {},
   "source": [
    "### Step 1: Download dataset\n",
    "Load the MNIST dataset and split it into a training set and a test set (take the first 60,000 instances for training, and the remaining 10,000 for testing). In this experiment, we'll only be using the test set."
   ]
  },
  {
   "cell_type": "code",
   "execution_count": null,
   "metadata": {
    "ExecuteTime": {
     "end_time": "2022-10-27T06:19:23.341015Z",
     "start_time": "2022-10-27T06:19:22.456013Z"
    },
    "colab": {
     "base_uri": "https://localhost:8080/"
    },
    "id": "T92FQm_g5Fpb",
    "outputId": "aa93e836-a531-44f4-fb80-32c306004a23"
   },
   "outputs": [],
   "source": [
    "import tensorflow as tf\n",
    "import numpy as np\n",
    "\n",
    "(xs_train, ys_train), (xs_test, ys_test) = tf.keras.datasets.mnist.load_data()\n",
    "\n",
    "# We'll only be using the test set.\n",
    "xs = xs_test.reshape((xs_test.shape[0], -1))\n",
    "ys = ys_test\n",
    "\n",
    "print(f\"xs shape: {xs.shape}\")\n",
    "print(f\"ys shape: {ys.shape}\")"
   ]
  },
  {
   "cell_type": "markdown",
   "metadata": {},
   "source": [
    "### Step 2: Visualize digits (2 Points)\n",
    "\n",
    "Each hand-written MNIST digit is a 28x28 matrix. For each digit (0, 1, 2, ..., 9), pick one sample to visualize."
   ]
  },
  {
   "cell_type": "code",
   "execution_count": null,
   "metadata": {
    "ExecuteTime": {
     "end_time": "2022-10-27T06:19:23.433513Z",
     "start_time": "2022-10-27T06:19:23.342214Z"
    }
   },
   "outputs": [],
   "source": [
    "# Your code here."
   ]
  },
  {
   "cell_type": "markdown",
   "metadata": {
    "id": "C6UT64Sd41T5"
   },
   "source": [
    "### Step 3: PCA projection and recovery (8 Points)\n",
    "\n",
    "The original dataset has 28x28=784 feature dimensions.\n",
    "\n",
    "1. Use PCA to reduce the feature dimensions to [400, 200, 100, 50], respectively.\n",
    "2. From the reduced dimension data, reproject the data back to 784 dimensions. Plot the results of the reprojected digits. For each PCA dimension, you should plot digits from 0-9, similar to step 2."
   ]
  },
  {
   "cell_type": "code",
   "execution_count": null,
   "metadata": {
    "ExecuteTime": {
     "end_time": "2022-10-27T06:19:28.272196Z",
     "start_time": "2022-10-27T06:19:24.522431Z"
    },
    "colab": {
     "base_uri": "https://localhost:8080/"
    },
    "id": "Uch0JCc_4_Xc",
    "outputId": "aa03ad3d-42ce-4f47-8292-4c34d355e8a3"
   },
   "outputs": [],
   "source": [
    "from sklearn.decomposition import PCA\n",
    "\n",
    "# Your code here."
   ]
  },
  {
   "cell_type": "markdown",
   "metadata": {
    "id": "eELQc-nu6k7Z"
   },
   "source": [
    "### Step 4: t-SNE visualization (8 Points)\n",
    "\n",
    "Use t-SNE to reduce the MNIST dataset down to 2 dimensions and plot the result using Matplotlib. You should clearly see clusters of the digits from the visualization."
   ]
  },
  {
   "cell_type": "code",
   "execution_count": null,
   "metadata": {
    "ExecuteTime": {
     "end_time": "2022-10-27T06:19:34.974359Z",
     "start_time": "2022-10-27T06:19:28.273572Z"
    },
    "colab": {
     "base_uri": "https://localhost:8080/",
     "height": 948
    },
    "id": "xZSesxXk8Rfw",
    "outputId": "75448708-9717-4b35-9c15-b8ca820b8601"
   },
   "outputs": [],
   "source": [
    "import numpy as np\n",
    "import pandas as pd\n",
    "from sklearn.manifold import TSNE\n",
    "import matplotlib.pyplot as plt\n",
    "\n",
    "\n",
    "# Your code here."
   ]
  },
  {
   "cell_type": "markdown",
   "metadata": {},
   "source": [
    "### Step 5: PCA visualization (8 Points) \n",
    "\n",
    "Next, let's use PCA to project the data to 2 dimension. Visualize the 2D data again. Which one performs better, t-SNE or PCA?"
   ]
  },
  {
   "cell_type": "code",
   "execution_count": null,
   "metadata": {},
   "outputs": [],
   "source": [
    "# Your code here."
   ]
  },
  {
   "cell_type": "markdown",
   "metadata": {
    "id": "93nvTfIK-3BP"
   },
   "source": [
    "### Step 6: PCA evaluation (4 Points)\n",
    "\n",
    "Now you have projected the data to 2 dimension using PCA. \n",
    "Let's discuss how to evaluate the performance of this PCA results (with different numbers of components) for dimension reduction. \n",
    "\n",
    "Your tasks:\n",
    "\n",
    "1. Propose a suitable metric (e.g., a scalar score) to evaluate the PCA performance. (2 Points)\n",
    "2. Implement it (you are allowed to import the external packages) and give the quatitative result. (2 Points)"
   ]
  },
  {
   "cell_type": "code",
   "execution_count": null,
   "metadata": {
    "ExecuteTime": {
     "end_time": "2022-10-27T06:19:35.372368Z",
     "start_time": "2022-10-27T06:19:34.976244Z"
    },
    "colab": {
     "base_uri": "https://localhost:8080/",
     "height": 642
    },
    "id": "yd-F2IId9hZ0",
    "outputId": "0289f30b-5dcb-4b50-99fc-2bcd99e4583d"
   },
   "outputs": [],
   "source": [
    "# Your code here."
   ]
  }
 ],
 "metadata": {
  "colab": {
   "collapsed_sections": [],
   "provenance": []
  },
  "kernelspec": {
   "display_name": "Python 3 (ipykernel)",
   "language": "python",
   "name": "python3"
  },
  "language_info": {
   "codemirror_mode": {
    "name": "ipython",
    "version": 3
   },
   "file_extension": ".py",
   "mimetype": "text/x-python",
   "name": "python",
   "nbconvert_exporter": "python",
   "pygments_lexer": "ipython3",
   "version": "3.9.18"
  }
 },
 "nbformat": 4,
 "nbformat_minor": 4
}
