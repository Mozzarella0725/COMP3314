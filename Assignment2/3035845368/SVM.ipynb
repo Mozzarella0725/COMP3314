{
 "cells": [
  {
   "cell_type": "code",
   "execution_count": 5,
   "metadata": {},
   "outputs": [
    {
     "name": "stderr",
     "output_type": "stream",
     "text": [
      "Loading images: 100%|██████████| 50000/50000 [00:55<00:00, 908.70it/s] \n"
     ]
    },
    {
     "name": "stdout",
     "output_type": "stream",
     "text": [
      "Training the SVM model...\n"
     ]
    }
   ],
   "source": [
    "import pandas as pd\n",
    "import numpy as np\n",
    "import os\n",
    "from sklearn.svm import SVC\n",
    "from sklearn.preprocessing import StandardScaler\n",
    "from sklearn.pipeline import make_pipeline\n",
    "from sklearn.model_selection import train_test_split\n",
    "from sklearn.metrics import classification_report\n",
    "from skimage.io import imread\n",
    "from skimage.transform import resize\n",
    "from tqdm import tqdm\n",
    "\n",
    "# Define constants\n",
    "IMAGE_SIZE = (64, 64)  # Resize images to this size\n",
    "RANDOM_STATE = 42\n",
    "\n",
    "# Paths to files and folders\n",
    "base_path = '/Users/zhao0725/Desktop/COMP3314/Assignment3/image-classification-challenge'\n",
    "train_csv_path = os.path.join(base_path, 'train.csv')\n",
    "test_csv_path = os.path.join(base_path, 'test.csv')\n",
    "train_ims_path = os.path.join(base_path, 'train_ims')\n",
    "test_ims_path = os.path.join(base_path, 'test_ims')\n",
    "\n",
    "# Load training data\n",
    "train_df = pd.read_csv(train_csv_path)\n",
    "\n",
    "# Function to load and preprocess images\n",
    "def load_images(image_folder, image_filenames, image_size):\n",
    "    images = []\n",
    "    for filename in tqdm(image_filenames, desc=\"Loading images\"):\n",
    "        img_path = os.path.join(image_folder, filename)\n",
    "        img = imread(img_path, as_gray=True)  # Load as grayscale\n",
    "        img_resized = resize(img, image_size)  # Resize to uniform size\n",
    "        images.append(img_resized.flatten())  # Flatten to 1D array\n",
    "    return np.array(images)\n",
    "\n",
    "# Load training images and labels\n",
    "train_images = load_images(train_ims_path, train_df['im_name'], IMAGE_SIZE)\n",
    "train_labels = train_df['label'].values\n",
    "\n",
    "# Split into training and validation sets\n",
    "X_train, X_val, y_train, y_val = train_test_split(\n",
    "    train_images, train_labels, test_size=0.2, random_state=RANDOM_STATE\n",
    ")\n",
    "\n",
    "# Create an SVM model pipeline with scaling\n",
    "svm_model = make_pipeline(StandardScaler(), SVC(kernel='linear', random_state=RANDOM_STATE))\n",
    "\n",
    "# Train the model\n",
    "print(\"Training the SVM model...\")\n",
    "svm_model.fit(X_train, y_train)\n",
    "\n",
    "# Validate the model\n",
    "print(\"Validating the model...\")\n",
    "y_val_pred = svm_model.predict(X_val)\n",
    "print(classification_report(y_val, y_val_pred))\n",
    "\n",
    "# Load test images\n",
    "test_df = pd.read_csv(test_csv_path)\n",
    "test_images = load_images(test_ims_path, test_df['im_name'], IMAGE_SIZE)\n",
    "\n",
    "# Make predictions on test images\n",
    "print(\"Making predictions on test images...\")\n",
    "test_predictions = svm_model.predict(test_images)\n",
    "\n",
    "# Add predictions to the test DataFrame\n",
    "test_df['label'] = test_predictions\n",
    "\n",
    "# Save the updated test DataFrame\n",
    "output_csv_path = os.path.join(base_path, 'test_predictions.csv')\n",
    "test_df.to_csv(output_csv_path, index=False)\n",
    "print(f\"Predictions saved to {output_csv_path}.\")\n"
   ]
  }
 ],
 "metadata": {
  "kernelspec": {
   "display_name": "Python 3",
   "language": "python",
   "name": "python3"
  },
  "language_info": {
   "codemirror_mode": {
    "name": "ipython",
    "version": 3
   },
   "file_extension": ".py",
   "mimetype": "text/x-python",
   "name": "python",
   "nbconvert_exporter": "python",
   "pygments_lexer": "ipython3",
   "version": "3.10.5"
  }
 },
 "nbformat": 4,
 "nbformat_minor": 2
}
