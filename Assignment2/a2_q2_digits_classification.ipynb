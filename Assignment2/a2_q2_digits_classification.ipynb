{
 "cells": [
  {
   "cell_type": "markdown",
   "metadata": {
    "id": "0AUwbFEaMiWi"
   },
   "source": [
    "# COMP3314 Assignment2-Q2: Digits Classification (30 Points)"
   ]
  },
  {
   "cell_type": "markdown",
   "metadata": {
    "id": "s9RyhbgDaXSh"
   },
   "source": [
    "In Assignment-1, we have explored using Perceptron and Adaline on digits classification task.  In this assignment, we would explore more advanced classifiers on the same dataset.\n",
    "\n",
    "Your tasks:\n",
    "\n",
    "1. Create classifiers from scikit-learn and choose a hyper-parameters to scan. The classifiers include:\n",
    "   * KNN \n",
    "   * Decision Tree\n",
    "2. Compare the training speed and performance of naive/kernel SVM\n",
    "3. Implement KNN by yourself\n"
   ]
  },
  {
   "cell_type": "code",
   "execution_count": null,
   "metadata": {
    "ExecuteTime": {
     "end_time": "2022-10-27T18:32:39.076092Z",
     "start_time": "2022-10-27T18:32:38.628167Z"
    },
    "colab": {
     "base_uri": "https://localhost:8080/",
     "height": 52
    },
    "executionInfo": {
     "elapsed": 1354,
     "status": "ok",
     "timestamp": 1601878856611,
     "user": {
      "displayName": "Dirk Schnieders",
      "photoUrl": "https://lh3.googleusercontent.com/a-/AOh14GgODgJcz0dePD_sWYiYf2tTtBmdcj8_jP8_OvLy9g=s64",
      "userId": "16819858730100554095"
     },
     "user_tz": -480
    },
    "id": "G34BD-WdaneG",
    "outputId": "12c5a139-84e3-45ba-c14c-07e5fe6e8fca"
   },
   "outputs": [],
   "source": [
    "from sklearn.datasets import load_digits\n",
    "import matplotlib.pyplot as plt\n",
    "import matplotlib as mpl\n",
    "\n",
    "digits = load_digits()\n",
    "\n",
    "xs = digits.data\n",
    "ys = digits.target\n",
    "\n",
    "print(xs.shape)\n",
    "print(ys.shape)"
   ]
  },
  {
   "cell_type": "code",
   "execution_count": null,
   "metadata": {
    "ExecuteTime": {
     "end_time": "2022-10-27T18:32:39.381150Z",
     "start_time": "2022-10-27T18:32:39.077104Z"
    },
    "colab": {
     "base_uri": "https://localhost:8080/",
     "height": 602
    },
    "executionInfo": {
     "elapsed": 1659,
     "status": "ok",
     "timestamp": 1601878859720,
     "user": {
      "displayName": "Dirk Schnieders",
      "photoUrl": "https://lh3.googleusercontent.com/a-/AOh14GgODgJcz0dePD_sWYiYf2tTtBmdcj8_jP8_OvLy9g=s64",
      "userId": "16819858730100554095"
     },
     "user_tz": -480
    },
    "id": "fGu93j6CaqLq",
    "outputId": "57f8db31-4d3f-409e-876c-88aff812d40b"
   },
   "outputs": [],
   "source": [
    "mpl.rcParams[\"figure.dpi\"] = 150\n",
    "num_rows = 4\n",
    "num_cols = 5\n",
    "fig, ax = plt.subplots(nrows=num_rows, ncols=num_cols, sharex=True, sharey=True)\n",
    "ax = ax.flatten()\n",
    "\n",
    "for index in range(num_rows * num_cols):\n",
    "    img = digits.images[index]\n",
    "    label = digits.target[index]\n",
    "    ax[index].imshow(img, cmap=\"Greys\", interpolation=\"nearest\")\n",
    "    ax[index].set_title(\"digit \" + str(label))\n",
    "\n",
    "ax[0].set_xticks([])\n",
    "ax[0].set_yticks([])\n",
    "plt.tight_layout()\n",
    "plt.show()"
   ]
  },
  {
   "cell_type": "markdown",
   "metadata": {
    "id": "Vrz6Lwxja7XB"
   },
   "source": [
    "## Data Preprocessing"
   ]
  },
  {
   "cell_type": "code",
   "execution_count": null,
   "metadata": {
    "ExecuteTime": {
     "end_time": "2022-10-27T18:32:39.395694Z",
     "start_time": "2022-10-27T18:32:39.384320Z"
    },
    "id": "OJW5hPNkbAT4"
   },
   "outputs": [],
   "source": [
    "from sklearn.model_selection import train_test_split\n",
    "import numpy as np\n",
    "\n",
    "\n",
    "def get_accuracy(ys, ys_pred):\n",
    "    assert ys.shape == ys_pred.shape\n",
    "    assert ys.ndim == 1\n",
    "    return np.sum(ys == ys_pred) / len(ys)\n",
    "\n",
    "\n",
    "xs_train, xs_test, ys_train, ys_test = train_test_split(\n",
    "    xs, ys, test_size=0.1, stratify=ys\n",
    ")"
   ]
  },
  {
   "cell_type": "markdown",
   "metadata": {
    "id": "yfoFni6tLoIv"
   },
   "source": [
    "## Classifier #1 KNN (4 Points)\n",
    "\n",
    "Use scikit-learn to create a KNN classifier. Choose the number of neighbors to scan."
   ]
  },
  {
   "cell_type": "code",
   "execution_count": null,
   "metadata": {
    "ExecuteTime": {
     "end_time": "2022-10-27T18:32:39.900828Z",
     "start_time": "2022-10-27T18:32:39.449206Z"
    },
    "id": "eggDI2swLoIv"
   },
   "outputs": [],
   "source": [
    "# Your code here."
   ]
  },
  {
   "cell_type": "markdown",
   "metadata": {},
   "source": [
    "## Classifier #2 Decision Tree (4 Points)\n",
    "\n",
    "Use scikit-learn to create a decision tree classifier. Choose the depth of the tree to scan."
   ]
  },
  {
   "cell_type": "code",
   "execution_count": null,
   "metadata": {},
   "outputs": [],
   "source": [
    "# Your code here."
   ]
  },
  {
   "cell_type": "markdown",
   "metadata": {},
   "source": [
    "## Compare Linear-SVM and Kernel-SVM (10 Points) \n",
    " \n",
    "- Please use scikit-learn to create a linear SVM and a kernel SVM.\n",
    "- Please choose a kernel function by yourself. \n",
    "- Implement code to compare the training time and test accuracy, then discuss what you observe."
   ]
  },
  {
   "cell_type": "code",
   "execution_count": null,
   "metadata": {},
   "outputs": [],
   "source": [
    "# Your code here."
   ]
  },
  {
   "cell_type": "markdown",
   "metadata": {},
   "source": [
    "## Implement KNN by yourself (12 Points)\n",
    " \n",
    "- Implement a python class of KNN **by yourself**. \n",
    "- Train and test the classifier on the same dataset. \n",
    "- Compare the performance with the scikit-learn KNN classifier."
   ]
  },
  {
   "cell_type": "code",
   "execution_count": null,
   "metadata": {},
   "outputs": [],
   "source": [
    "# Your code here."
   ]
  }
 ],
 "metadata": {
  "colab": {
   "authorship_tag": "ABX9TyO1gQEo3McgnSelg/4BL/PW",
   "collapsed_sections": [],
   "name": "Comp3314 2021 Assignment 1",
   "provenance": []
  },
  "kernelspec": {
   "display_name": "Python 3 (ipykernel)",
   "language": "python",
   "name": "python3"
  },
  "language_info": {
   "codemirror_mode": {
    "name": "ipython",
    "version": 3
   },
   "file_extension": ".py",
   "mimetype": "text/x-python",
   "name": "python",
   "nbconvert_exporter": "python",
   "pygments_lexer": "ipython3",
   "version": "3.9.18"
  },
  "vscode": {
   "interpreter": {
    "hash": "d17123b7a852ae6f995cf965aca53bbdb6bda840a01f47f622e12eaae1166d96"
   }
  }
 },
 "nbformat": 4,
 "nbformat_minor": 4
}
