{
 "cells": [
  {
   "cell_type": "markdown",
   "metadata": {
    "id": "0AUwbFEaMiWi"
   },
   "source": [
    "# COMP3314 Assignment1-Q3: Digits Classification (15 Points)"
   ]
  },
  {
   "cell_type": "markdown",
   "metadata": {
    "id": "s9RyhbgDaXSh"
   },
   "source": [
    "In chapter 3 sample codes, we applied different scikit-learn classifiers for the Iris data set. In this question, we will use the classifiers over another data set: hand-written digits.\n",
    "\n",
    "Your tasks:\n",
    "\n",
    "1. Split the dataset into a training set and a test set.\n",
    "2. Create classifiers from scikit-learn and set their hyper-parameters. The classifiers include:\n",
    "   * Perceptron\n",
    "   * Logistic regression\n",
    "3. Train your classifiers with the training set.\n",
    "4. Evaluate your classifiers with the test set.\n",
    "5. Compare the performance of the classifiers. Which classifier(s) perform(s) the best and worst, and why?"
   ]
  },
  {
   "cell_type": "code",
   "execution_count": 1,
   "metadata": {
    "ExecuteTime": {
     "end_time": "2022-10-27T18:32:39.076092Z",
     "start_time": "2022-10-27T18:32:38.628167Z"
    },
    "colab": {
     "base_uri": "https://localhost:8080/",
     "height": 52
    },
    "executionInfo": {
     "elapsed": 1354,
     "status": "ok",
     "timestamp": 1601878856611,
     "user": {
      "displayName": "Dirk Schnieders",
      "photoUrl": "https://lh3.googleusercontent.com/a-/AOh14GgODgJcz0dePD_sWYiYf2tTtBmdcj8_jP8_OvLy9g=s64",
      "userId": "16819858730100554095"
     },
     "user_tz": -480
    },
    "id": "G34BD-WdaneG",
    "outputId": "12c5a139-84e3-45ba-c14c-07e5fe6e8fca"
   },
   "outputs": [
    {
     "name": "stdout",
     "output_type": "stream",
     "text": [
      "(1797, 64)\n",
      "(1797,)\n"
     ]
    }
   ],
   "source": [
    "from sklearn.datasets import load_digits\n",
    "import matplotlib.pyplot as plt\n",
    "import matplotlib as mpl\n",
    "\n",
    "digits = load_digits()\n",
    "\n",
    "xs = digits.data\n",
    "ys = digits.target\n",
    "\n",
    "print(xs.shape)\n",
    "print(ys.shape)"
   ]
  },
  {
   "cell_type": "code",
   "execution_count": 2,
   "metadata": {
    "ExecuteTime": {
     "end_time": "2022-10-27T18:32:39.381150Z",
     "start_time": "2022-10-27T18:32:39.077104Z"
    },
    "colab": {
     "base_uri": "https://localhost:8080/",
     "height": 602
    },
    "executionInfo": {
     "elapsed": 1659,
     "status": "ok",
     "timestamp": 1601878859720,
     "user": {
      "displayName": "Dirk Schnieders",
      "photoUrl": "https://lh3.googleusercontent.com/a-/AOh14GgODgJcz0dePD_sWYiYf2tTtBmdcj8_jP8_OvLy9g=s64",
      "userId": "16819858730100554095"
     },
     "user_tz": -480
    },
    "id": "fGu93j6CaqLq",
    "outputId": "57f8db31-4d3f-409e-876c-88aff812d40b"
   },
   "outputs": [
    {
     "data": {
      "image/png": "[encoded data removed]",
      "text/plain": [
       "<Figure size 600x600 with 20 Axes>"
      ]
     },
     "metadata": {},
     "output_type": "display_data"
    }
   ],
   "source": [
    "mpl.rcParams[\"figure.dpi\"] = 150\n",
    "num_rows = 4\n",
    "num_cols = 5\n",
    "fig, ax = plt.subplots(\n",
    "    nrows=num_rows, ncols=num_cols, sharex=True, sharey=True, figsize=(4, 4)\n",
    ")\n",
    "ax = ax.flatten()\n",
    "\n",
    "for index in range(num_rows * num_cols):\n",
    "    img = digits.images[index]\n",
    "    label = digits.target[index]\n",
    "    ax[index].imshow(img, cmap=\"Greys\", interpolation=\"nearest\")\n",
    "    ax[index].set_title(\"digit \" + str(label))\n",
    "\n",
    "ax[0].set_xticks([])\n",
    "ax[0].set_yticks([])\n",
    "plt.tight_layout()\n",
    "plt.show()"
   ]
  },
  {
   "cell_type": "markdown",
   "metadata": {
    "id": "Vrz6Lwxja7XB"
   },
   "source": [
    "## Data Preprocessing ( 3 Points )\n",
    "\n",
    "Hints:\n",
    "1. Divide training and test data set and apply other techniques we have learned if needed.\n",
    "2. You may add some common functions here, such as the evaluation code."
   ]
  },
  {
   "cell_type": "code",
   "execution_count": 3,
   "metadata": {
    "ExecuteTime": {
     "end_time": "2022-10-27T18:32:39.395694Z",
     "start_time": "2022-10-27T18:32:39.384320Z"
    },
    "id": "OJW5hPNkbAT4"
   },
   "outputs": [],
   "source": [
    "from sklearn.model_selection import train_test_split\n",
    "import numpy as np\n",
    "\n",
    "\n",
    "def get_accuracy(ys, ys_pred):\n",
    "    # Your code, implement the code for evaluation\n",
    "    assert ys.shape == ys_pred.shape\n",
    "    assert ys.ndim == 1\n",
    "    return np.sum(ys == ys_pred) / len(ys)\n",
    "\n",
    "\n",
    "# Your code, split the train/test dataset\n",
    "xs_train, xs_test, ys_train, ys_test = train_test_split(\n",
    "    xs, ys, test_size=0.1, stratify=ys\n",
    ")"
   ]
  },
  {
   "cell_type": "markdown",
   "metadata": {
    "id": "GX6bWDjCLoIr"
   },
   "source": [
    "## Classifier #1 Perceptron ( 3 Points )"
   ]
  },
  {
   "cell_type": "code",
   "execution_count": 4,
   "metadata": {
    "ExecuteTime": {
     "end_time": "2022-10-27T18:32:39.447876Z",
     "start_time": "2022-10-27T18:32:39.396651Z"
    },
    "id": "lYkmrjmrLoIr"
   },
   "outputs": [
    {
     "name": "stdout",
     "output_type": "stream",
     "text": [
      "eta0 = 0.0001, accuracy = 0.9222\n",
      "eta0 = 0.0010, accuracy = 0.9333\n",
      "eta0 = 0.0100, accuracy = 0.9278\n",
      "eta0 = 0.1000, accuracy = 0.9278\n",
      "eta0 = 1.0000, accuracy = 0.9278\n",
      "Best performing Perceptron: eta0 = 0.001, accuracy = 0.9333\n"
     ]
    }
   ],
   "source": [
    "# Example code, including training and testing, to observe the accuracies.\n",
    "from sklearn.linear_model import Perceptron\n",
    "\n",
    "# Tune the eta0 hyperparameter.\n",
    "eat0_list = [0.0001, 0.001, 0.01, 0.1, 1]\n",
    "\n",
    "# Your code here.\n",
    "accuracies = []\n",
    "for eta0 in eat0_list:\n",
    "    model = Perceptron(max_iter=100, tol=1e-3, eta0=eta0)\n",
    "    model.fit(xs_train, ys_train)\n",
    "    ys_pred = model.predict(xs_test)\n",
    "    accuracy = get_accuracy(ys_test, ys_pred)\n",
    "    accuracies.append(accuracy)\n",
    "\n",
    "for eta0, accuracy in zip(eat0_list, accuracies):\n",
    "    print(f\"eta0 = {eta0:.4f}, accuracy = {accuracy:.4f}\")\n",
    "\n",
    "best_accuracy_perceptron = max(accuracies)\n",
    "best_eta0_perceptron = eat0_list[accuracies.index(best_accuracy_perceptron)]\n",
    "print(\n",
    "    f\"Best performing Perceptron: eta0 = {best_eta0_perceptron}, accuracy = {best_accuracy_perceptron:.4f}\"\n",
    ")"
   ]
  },
  {
   "cell_type": "markdown",
   "metadata": {
    "id": "yfoFni6tLoIv"
   },
   "source": [
    "## Classifier #2 Logistic Regression ( 3 Points )"
   ]
  },
  {
   "cell_type": "code",
   "execution_count": 5,
   "metadata": {
    "ExecuteTime": {
     "end_time": "2022-10-27T18:32:39.900828Z",
     "start_time": "2022-10-27T18:32:39.449206Z"
    },
    "id": "eggDI2swLoIv"
   },
   "outputs": [
    {
     "name": "stderr",
     "output_type": "stream",
     "text": [
      "/Users/liheyang/Library/Python/3.9/lib/python/site-packages/sklearn/linear_model/_logistic.py:1256: FutureWarning: 'multi_class' was deprecated in version 1.5 and will be removed in 1.7. Use OneVsRestClassifier(LogisticRegression(..)) instead. Leave it to its default value to avoid this warning.\n",
      "  warnings.warn(\n",
      "/Users/liheyang/Library/Python/3.9/lib/python/site-packages/sklearn/linear_model/_logistic.py:1256: FutureWarning: 'multi_class' was deprecated in version 1.5 and will be removed in 1.7. Use OneVsRestClassifier(LogisticRegression(..)) instead. Leave it to its default value to avoid this warning.\n",
      "  warnings.warn(\n",
      "/Users/liheyang/Library/Python/3.9/lib/python/site-packages/sklearn/linear_model/_logistic.py:1256: FutureWarning: 'multi_class' was deprecated in version 1.5 and will be removed in 1.7. Use OneVsRestClassifier(LogisticRegression(..)) instead. Leave it to its default value to avoid this warning.\n",
      "  warnings.warn(\n",
      "/Users/liheyang/Library/Python/3.9/lib/python/site-packages/sklearn/linear_model/_logistic.py:1256: FutureWarning: 'multi_class' was deprecated in version 1.5 and will be removed in 1.7. Use OneVsRestClassifier(LogisticRegression(..)) instead. Leave it to its default value to avoid this warning.\n",
      "  warnings.warn(\n",
      "/Users/liheyang/Library/Python/3.9/lib/python/site-packages/sklearn/linear_model/_logistic.py:1256: FutureWarning: 'multi_class' was deprecated in version 1.5 and will be removed in 1.7. Use OneVsRestClassifier(LogisticRegression(..)) instead. Leave it to its default value to avoid this warning.\n",
      "  warnings.warn(\n",
      "/Users/liheyang/Library/Python/3.9/lib/python/site-packages/sklearn/linear_model/_logistic.py:1256: FutureWarning: 'multi_class' was deprecated in version 1.5 and will be removed in 1.7. Use OneVsRestClassifier(LogisticRegression(..)) instead. Leave it to its default value to avoid this warning.\n",
      "  warnings.warn(\n",
      "/Users/liheyang/Library/Python/3.9/lib/python/site-packages/sklearn/linear_model/_logistic.py:1256: FutureWarning: 'multi_class' was deprecated in version 1.5 and will be removed in 1.7. Use OneVsRestClassifier(LogisticRegression(..)) instead. Leave it to its default value to avoid this warning.\n",
      "  warnings.warn(\n"
     ]
    },
    {
     "name": "stdout",
     "output_type": "stream",
     "text": [
      "C = 0.0001, accuracy = 0.9444\n",
      "C = 0.0010, accuracy = 0.9611\n",
      "C = 0.0100, accuracy = 0.9778\n",
      "C = 0.1000, accuracy = 0.9611\n",
      "C = 1.0000, accuracy = 0.9667\n",
      "C = 10.0000, accuracy = 0.9556\n",
      "C = 100.0000, accuracy = 0.9500\n",
      "Best performing Logistic Regression: C = 0.01, accuracy = 0.9778\n"
     ]
    }
   ],
   "source": [
    "# Your code, including training and testing, to observe the accuracies.\n",
    "\n",
    "from sklearn.linear_model import LogisticRegression\n",
    "\n",
    "# Tune the C hyperparameter.\n",
    "C_list = [0.0001, 0.001, 0.01, 0.1, 1, 10, 100]\n",
    "\n",
    "accuracies = []\n",
    "for C in C_list:\n",
    "    model = LogisticRegression(\n",
    "        C=C, max_iter=1000, solver=\"liblinear\", multi_class=\"ovr\"\n",
    "    )\n",
    "    model.fit(xs_train, ys_train)\n",
    "    ys_pred = model.predict(xs_test)\n",
    "    accuracy = get_accuracy(ys_test, ys_pred)\n",
    "    accuracies.append(accuracy)\n",
    "\n",
    "for C, accuracy in zip(C_list, accuracies):\n",
    "    print(f\"C = {C:.4f}, accuracy = {accuracy:.4f}\")\n",
    "\n",
    "best_accuracy_lr = max(accuracies)\n",
    "best_C_lr = C_list[accuracies.index(best_accuracy_lr)]\n",
    "print(\n",
    "    f\"Best performing Logistic Regression: C = {best_C_lr}, accuracy = {best_accuracy_lr:.4f}\"\n",
    ")"
   ]
  },
  {
   "cell_type": "markdown",
   "metadata": {},
   "source": [
    "## Classifier #3 Choose it by yourself.  ( 3 Points )\n",
    "\n",
    "You are required to choose another classifer in sklearn and evaluate it your self.  Try to find a better one than the previous two."
   ]
  },
  {
   "cell_type": "code",
   "execution_count": 6,
   "metadata": {},
   "outputs": [
    {
     "name": "stdout",
     "output_type": "stream",
     "text": [
      "C = 0.1, gamma = 0.001, accuracy = 0.9778\n",
      "C = 0.1, gamma = 0.01, accuracy = 0.1000\n",
      "C = 0.1, gamma = 0.1, accuracy = 0.1000\n",
      "C = 0.1, gamma = 1, accuracy = 0.1000\n",
      "C = 1, gamma = 0.001, accuracy = 0.9889\n",
      "C = 1, gamma = 0.01, accuracy = 0.8889\n",
      "C = 1, gamma = 0.1, accuracy = 0.1056\n",
      "C = 1, gamma = 1, accuracy = 0.1000\n",
      "C = 10, gamma = 0.001, accuracy = 0.9889\n",
      "C = 10, gamma = 0.01, accuracy = 0.9000\n",
      "C = 10, gamma = 0.1, accuracy = 0.1056\n",
      "C = 10, gamma = 1, accuracy = 0.1000\n",
      "Best performing model: C = 1, gamma = 0.001, accuracy = 0.9889\n"
     ]
    }
   ],
   "source": [
    "# Your code, including training and testing, to observe the accuracies.\n",
    "\n",
    "from sklearn.svm import SVC\n",
    "\n",
    "# Tune hyperparameters C and gamma.\n",
    "C_list = [0.1, 1, 10]\n",
    "gamma_list = [0.001, 0.01, 0.1, 1]\n",
    "\n",
    "# Store the best performing model's settings\n",
    "best_accuracy = 0\n",
    "best_params = {\"C\": None, \"gamma\": None}\n",
    "\n",
    "accuracies = []\n",
    "\n",
    "for C in C_list:\n",
    "    for gamma in gamma_list:\n",
    "        model = SVC(C=C, gamma=gamma, kernel=\"rbf\")\n",
    "        model.fit(xs_train, ys_train)\n",
    "        ys_pred = model.predict(xs_test)\n",
    "        accuracy = get_accuracy(ys_test, ys_pred)\n",
    "        accuracies.append((C, gamma, accuracy))\n",
    "\n",
    "        # Update best model if current model is better\n",
    "        if accuracy > best_accuracy:\n",
    "            best_accuracy = accuracy\n",
    "            best_params[\"C\"] = C\n",
    "            best_params[\"gamma\"] = gamma\n",
    "\n",
    "for C, gamma, accuracy in accuracies:\n",
    "    print(f\"C = {C}, gamma = {gamma}, accuracy = {accuracy:.4f}\")\n",
    "\n",
    "print(\n",
    "    f\"Best performing model: C = {best_params['C']}, gamma = {best_params['gamma']}, accuracy = {best_accuracy:.4f}\"\n",
    ")"
   ]
  },
  {
   "cell_type": "markdown",
   "metadata": {
    "id": "YkgMDYz7ddTe"
   },
   "source": [
    "## Discussions ( 3 Points )\n",
    "\n",
    "Compare the performance of the classifiers. Which classifier(s) perform(s) the best and worst, and why?"
   ]
  },
  {
   "cell_type": "markdown",
   "metadata": {},
   "source": [
    "#### Performance\n",
    "\n",
    "- The logistic regression model performs better than Perceptron for this dataset.\n",
    "- The SVM model performs better than logistic regression for this dataset.\n",
    "\n",
    "#### Insights\n",
    "\n",
    "The varying performance levels of these classifiers highlight several important considerations in machine learning:\n",
    "\n",
    "1. Linearity vs. Non-Linearity: The Perceptron's lower performance reinforces the importance of considering the data's linearity. Non-linear models like SVM with RBF kernel can capture complex patterns that linear models cannot.\n",
    "2. Hyperparameter Tuning: The varying performances across different settings of eta0 for Perceptron, C for Logistic Regression, and C & gamma for SVM underline the critical role of hyperparameter tuning in optimizing model performance.\n",
    "3. Model Complexity: SVMs, especially with non-linear kernels like RBF, tend to handle more complex decision boundaries better than simpler linear models. However, this comes with increased computational cost and the need for careful hyperparameter tuning to avoid overfitting.\n",
    "4. Dataset Characteristics: The effectiveness of a classifier is heavily influenced by the characteristics of the dataset. For the handwritten digits dataset, the spatial and structural complexities of the digits make flexible, non-linear models more suitable."
   ]
  }
 ],
 "metadata": {
  "colab": {
   "authorship_tag": "ABX9TyO1gQEo3McgnSelg/4BL/PW",
   "collapsed_sections": [],
   "name": "Comp3314 2021 Assignment 1",
   "provenance": []
  },
  "kernelspec": {
   "display_name": "Python 3 (ipykernel)",
   "language": "python",
   "name": "python3"
  },
  "language_info": {
   "codemirror_mode": {
    "name": "ipython",
    "version": 3
   },
   "file_extension": ".py",
   "mimetype": "text/x-python",
   "name": "python",
   "nbconvert_exporter": "python",
   "pygments_lexer": "ipython3",
   "version": "3.9.6"
  },
  "vscode": {
   "interpreter": {
    "hash": "d17123b7a852ae6f995cf965aca53bbdb6bda840a01f47f622e12eaae1166d96"
   }
  }
 },
 "nbformat": 4,
 "nbformat_minor": 4
}
