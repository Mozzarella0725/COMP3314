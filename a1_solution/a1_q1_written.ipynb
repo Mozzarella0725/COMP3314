{
 "cells": [
  {
   "cell_type": "markdown",
   "metadata": {},
   "source": [
    "# COMP3314 Assignment1-Q1: Written Questions (50 Points)\n",
    "\n",
    "Solve the following questions by hand. No need to implement any code. \n",
    "\n",
    "You should use Markdown to write texts and LaTex to write math equations. See this [documentation](https://jupyter-notebook.readthedocs.io/en/stable/examples/Notebook/Working%20With%20Markdown%20Cells.html) on how to use Markdown and LaTex in Jupyter Notebook."
   ]
  },
  {
   "cell_type": "markdown",
   "metadata": {},
   "source": [
    "## Q1-1: Perceptron Basics (5 points)\n",
    "\n",
    "### Question\n",
    "\n",
    "Consider a Perceptron with 3 inputs and 1 output (1 or -1). Let the weights of the Perceptron be $w_1 = -1$, $w_2 = 0.5$, and $w_3 = 1$, and let the bias be $w_0 = -1.5$. Calculate the output of the following inputs: $(0, 0, 0), (1, 0, 0), (0, 1, 1), (1, 1, 1), (1,2, -1)$."
   ]
  },
  {
   "cell_type": "markdown",
   "metadata": {},
   "source": [
    "### Answer\n",
    "\n",
    "For $x=(0,0,0)$, $z=w_0x_0+w_1x_1+w_2x_2+w_3x_3=-1.5$, output $\\phi(z)=-1$\n",
    "\n",
    "Similarly, for $x=(1,0,0)$, $z=-2.5, \\phi(z)=-1$\n",
    "\n",
    "for $x=(0,1,1)$, $z=0, \\phi(z)=1$\n",
    "\n",
    "for $x=(1,1,1)$, $z=-1, \\phi(z)=-1$\n",
    "\n",
    "for $x=(1,2,-1)$, $z=-2.5, \\phi(z)=-1$\n",
    "\n",
    "**(1 Point for each input)**"
   ]
  },
  {
   "cell_type": "markdown",
   "metadata": {},
   "source": [
    "## Q1-2: Boolean Operators (5 points)\n",
    "\n",
    "### Question\n",
    "\n",
    "In this question, we will review boolean operations. Assume the inputs 2-dimensional binary values of 0 (false) and 1 (true). For example, input $(x_1, x_2)$ can only have the following values: $(0, 0), (0, 1), (1, 0), (1, 1)$. Complete the following truth tables for `NOT`, `AND`, `OR`, `NAND`, `NOR`, `XOR`. \n",
    "\n",
    "You will use these truth tables in Q2, where you will implement perceptrons to compute these boolean operations."
   ]
  },
  {
   "cell_type": "markdown",
   "metadata": {},
   "source": [
    "### Answer\n",
    "\n",
    "`NOT`: (example table)\n",
    "| $x_1$ | output |\n",
    "| ----- | ------ |\n",
    "| 0     | 1      |\n",
    "| 1     | 0      |\n",
    "\n",
    "`AND`:\n",
    "| $x_1$ | $x_2$ | output |\n",
    "| ----- | ----- | ------ |\n",
    "| 0     | 0     |  0     |\n",
    "| 0     | 1     |  0     |\n",
    "| 1     | 0     |  0     |\n",
    "| 1     | 1     |  1     |\n",
    "\n",
    "`OR`:\n",
    "| $x_1$ | $x_2$ | output |\n",
    "| ----- | ----- | ------ |\n",
    "| 0     | 0     |    0   |\n",
    "| 0     | 1     |    1   |\n",
    "| 1     | 0     |    1   |\n",
    "| 1     | 1     |    1   |\n",
    "\n",
    "`NAND`:\n",
    "| $x_1$ | $x_2$  | output |\n",
    "| ----- | ------ | ------ |\n",
    "| 0     | 0      |   1    |\n",
    "| 0     | 1      |   1    |\n",
    "| 1     | 0      |   1    |\n",
    "| 1     | 1      |   0    |\n",
    "\n",
    "`NOR`:\n",
    "| $x_1$ | $x_2$ | output |\n",
    "| ----- | ----- | ------ |\n",
    "| 0     | 0     |    1   |\n",
    "| 0     | 1     |    0   |\n",
    "| 1     | 0     |    0   |\n",
    "| 1     | 1     |    0   |\n",
    "\n",
    "`XOR`:\n",
    "| $x_1$ | $x_2$ | output |\n",
    "| ----- | ----- | ------ |\n",
    "| 0     | 0     |    0   |\n",
    "| 0     | 1     |    1   |\n",
    "| 1     | 0     |    1   |\n",
    "| 1     | 1     |    0   |"
   ]
  },
  {
   "cell_type": "markdown",
   "metadata": {},
   "source": [
    "## Q1-3: Parity Check (10 points)\n",
    "\n",
    "### Question\n",
    "\n",
    "The parity problem returns 1 if the number of inputs that are 1 is even, and 0 otherwise. Can a perceptron learn this problem for 4 inputs? Please provide a detailed explanation. If not learnable for 4 inputs, is there any number of inputs that is learnable for a perceptron?"
   ]
  },
  {
   "cell_type": "markdown",
   "metadata": {
    "id": "0AUwbFEaMiWi"
   },
   "source": [
    "### Answer\n",
    "\n",
    "**(2 Points)** A perceptron cannot learn the parity problem for 4 inputs.\n",
    "\n",
    "**(6 Points for a reasonable explaination)** For 4 inputs $x_1,x_2,x_3,x_4$, suppose that there exists a perceptron that could learn the parity problem for 4 inputs, and we define this perceptron with $z=w_0+w_1x_1+w_2x_2+w_3x_3+w_4x_4$ and the decision function $\\phi(z)=1$ if $z(x_1,x_2,x_3,x_4)\\geq 0$, and otherwise $\\phi(z)=0$.\n",
    "\n",
    "Considering four cases that:\n",
    "\n",
    "(1) $z(0, 0, 0, 0) = w_0 \\geq 0$\n",
    "\n",
    "(2) $z(0, 1, 0, 0) = w_0 + w_2 < 0$\n",
    "\n",
    "(3) $z(1, 0, 0, 0) = w_0 + w_1 < 0$\n",
    "\n",
    "(4) $z(1, 1, 0, 0) = w_0 + w_1 + w_2 \\geq 0$\n",
    "\n",
    "To satisfy (1) and (2), we must have $w_2 < 0$. However, when $w_2 < 0$ and (3) $w_0 + w_1 < 0$, we must have $w_0 + w_1 + w_2 < 0$, which is in contradictory to (4). \n",
    "\n",
    "Therefore, there are no such $w$ satisfying the four equations meantime. \n",
    "\n",
    "So a perceptron cannot learn the parity problem for 4 inputs.\n",
    "\n",
    "****(2 Points)**** When there is only a single input, we can use a perceptron to learn the parity problem."
   ]
  },
  {
   "cell_type": "markdown",
   "metadata": {},
   "source": [
    "## Q1-4: Perceptron (30 points)"
   ]
  },
  {
   "cell_type": "markdown",
   "metadata": {},
   "source": [
    "### Question\n",
    "Consider the perceptron algorithm and the following sequence of samples:\n",
    "\n",
    "$ x^{(1)} = (-1, 3), \\; x^{(2)} = (2, -2), \\; x^{(3)} = (-5, -3) $\n",
    "\n",
    "$ y^{(1)} = -1, \\; y^{(2)} = 1, \\; y^{(3)} = 1 $\n",
    "\n",
    "\n",
    "- We initialize all weights with 1 and all bias with 0.\n",
    "- We set the learning rate $\\eta = 1$.\n",
    "- We use $w_0$ to denote the bias term, and $w_1, w_2$ to denote the weights.\n",
    "- Reminder of the update rule: $w_j:=w_j+\\Delta w_j$, where $\\Delta w_j=\\eta\\left(y^{(i)}-\\hat{y}^{(i)}\\right) x_j^{(i)}$ if  $j>0 $. $\\Delta w_0=\\eta\\left(y^{(i)}-\\hat{y}^{(i)}\\right)$\n",
    "\n",
    "- Reminder of the decision function: $\\phi(z) = 1$ if $z >= 0$, and $\\phi(z) = -1$ otherwise.\n",
    "\n",
    "Answer the following three questions, and you need to provide the necessary formulas, steps, and analysis."
   ]
  },
  {
   "cell_type": "markdown",
   "metadata": {},
   "source": [
    "#### Q1-4-1  (5 points)\n",
    "Is this dataset linearly separable? \n",
    "\n",
    "\n",
    "\n"
   ]
  },
  {
   "cell_type": "markdown",
   "metadata": {},
   "source": [
    "#### Q1-4-2  (5 points)\n",
    "After initializing the parameters and without training, what is the prediction accuracy on the training set? Write down your calculation steps."
   ]
  },
  {
   "cell_type": "markdown",
   "metadata": {},
   "source": [
    "#### Q1-4-3 (20 points)\n",
    "After training for one epoch (seeing each training sample exactly once sequentially), what is the prediction accuracy on the training set? Write down your calculation steps."
   ]
  },
  {
   "cell_type": "markdown",
   "metadata": {},
   "source": [
    "### Solution\n",
    "\n",
    "**Q1-4-1**\n",
    "\n",
    "Yes. The dataset is linearly separable. We can see that the positive and negative samples can be split by a line.\n",
    "\n",
    "**Q1-4-2**\n",
    "\n",
    "$$  \\hat{y}^{(1)} = \\phi(w_0 + w_1 x^{(1)}_1 + w_2 x^{(1)}_2) = \\phi(0 + 1 \\times (-1) + 1 \\times 3) = \\phi(2) = 1 \\neq y^{(1)} $$\n",
    "$$\\hat{y}^{(2)} = \\phi(w_0 + w_1 x^{(2)}_1 + w_2 x^{(2)}_2) = \\phi(0 + 1 \\times 2 + 1 \\times (-2)) = \\phi(0) = 1 = y^{(2)}$$\n",
    "$$\\hat{y}^{(3)} = \\phi(w_0 + w_1 x^{(3)}_1 + w_2 x^{(3)}_2) = \\phi(0 + 1 \\times (-5) + 1 \\times (-3)) = \\phi(-8) = -1 \\neq y^{(3)}$$\n",
    "\n",
    "Therefore, the accuracy is $1/3$ at the training set.\n",
    "\n",
    "\n",
    "**Q1-4-3**\n",
    "\n",
    "Train $(x^{(1)}, y^{(1)})$\n",
    "\n",
    "$$\\hat{y}^{(1)} = \\phi(w_0 + w_1 x^{(1)}_1 + w_2 x^{(1)}_2) = \\phi(0 + 1 \\times (-1) + 1 \\times 3) = \\phi(2) = 1$$\n",
    "$$\\hat{y}^{(1)} \\neq y^{(1)}$$  \n",
    "the prediction is incorrect.\n",
    "$$w_0 := w_0 + \\Delta w_0 = w_0 + \\eta(y^{(1)}-\\hat{y}^{(1)}) = 0 + 1\\times(-1-1) = -2 $$ \n",
    "$$w_1 := w_1 + \\Delta w_1 = w_1 + \\eta(y^{(1)}-\\hat{y}^{(1)})x_1^{(1)} = 1 + 1\\times(-1-1) \\times (-1) = 3 $$\n",
    "$$w_2 := w_2 + \\Delta w_2 = w_2 + \\eta(y^{(1)}-\\hat{y}^{(1)})x_2^{(1)} = 1 + 1\\times(-1-1) \\times 3 = -5$$\n",
    "\n",
    "\n",
    "Train $(x^{(2)}, y^{(2)})$\n",
    "\n",
    "$$\\hat{y}^{(2)} = \\phi(w_0 + w_1 x^{(2)}_1 + w_2 x^{(2)}_2) = \\phi(-2 + 3 \\times 2 + (-5)\\times (-2)) =  \\phi(14) = 1$$\n",
    "$$\\hat{y}^{(2)} = y^{(2)}$$ \n",
    "the prediction is correct, weights and bias are not updated.\n",
    "\n",
    "Train $(x^{(3)}, y^{(3)})$\n",
    "$$\\hat{y}^{(3)} = \\phi(w_0 + w_1 x^{(3)}_1 + w_2 x^{(3)}_2) = \\phi(-2 + 3 \\times (-5) + (-5)\\times (-3)) = \\phi(-2) = -1$$\n",
    "$$\\hat{y}^{(3)} \\neq y^{(3)}$$ \n",
    "the prediction is incorrect.\n",
    "$$w_0 := w_0 + \\Delta w_0 = w_0 + \\eta(y^{(3)}-\\hat{y}^{(3)}) = -2 + 1\\times(1-(-1)) = 0 $$\n",
    "$$w_1 := w_1 + \\Delta w_1 = w_1 + \\eta(y^{(3)}-\\hat{y}^{(3)})x_1^{(3)} = 3 + 1\\times(1-(-1)) \\times (-5) = -7 $$\n",
    "$$w_2 := w_2 + \\Delta w_2 = w_2 + \\eta(y^{(3)}-\\hat{y}^{(3)})x_2^{(3)} = -5 + 1\\times(1-(-1)) \\times (-3) = -11 $$\n",
    "\n",
    "Using the trained weights, we now make predictions for the training set:\n",
    "\n",
    "$$\\hat{y}^{(1)} = \\phi(w_0 + w_1 x^{(1)}_1 + w_2 x^{(1)}_2) = \\phi(0 + (-7) \\times (-1) + (-11)\\times 3) = \\phi(-26) = -1 = y^{(1)}$$\n",
    "$$\\hat{y}^{(2)} = \\phi(w_0 + w_1 x^{(2)}_1 + w_2 x^{(2)}_2) = \\phi(0 + (-7) \\times 2 + (-11)\\times (-2)) = \\phi(8) = 1 = y^{(2)}$$\n",
    "$$\\hat{y}^{(3)} = \\phi(w_0 + w_1 x^{(3)}_1 + w_2 x^{(3)}_2) = \\phi(0 + (-7) \\times (-5) + (-11)\\times (-3)) = \\phi(68) = 1 = y^{(3)}$$\n",
    "        \n",
    "Therefore, the accuracy is $100\\%$ at the training set.\n"
   ]
  }
 ],
 "metadata": {
  "kernelspec": {
   "display_name": "Python 3 (ipykernel)",
   "language": "python",
   "name": "python3"
  },
  "language_info": {
   "codemirror_mode": {
    "name": "ipython",
    "version": 3
   },
   "file_extension": ".py",
   "mimetype": "text/x-python",
   "name": "python",
   "nbconvert_exporter": "python",
   "pygments_lexer": "ipython3",
   "version": "3.9.18"
  },
  "vscode": {
   "interpreter": {
    "hash": "d17123b7a852ae6f995cf965aca53bbdb6bda840a01f47f622e12eaae1166d96"
   }
  }
 },
 "nbformat": 4,
 "nbformat_minor": 4
}
