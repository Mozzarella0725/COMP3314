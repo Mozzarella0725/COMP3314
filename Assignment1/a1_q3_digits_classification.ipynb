{
 "cells": [
  {
   "cell_type": "markdown",
   "metadata": {
    "id": "0AUwbFEaMiWi"
   },
   "source": [
    "# COMP3314 Assignment1-Q3: Digits Classification (15 Points)"
   ]
  },
  {
   "cell_type": "markdown",
   "metadata": {
    "id": "s9RyhbgDaXSh"
   },
   "source": [
    "In chapter 3 sample codes, we applied different scikit-learn classifiers for the Iris data set. In this question, we will use the classifiers over another data set: hand-written digits.\n",
    "\n",
    "Your tasks:\n",
    "\n",
    "1. Split the dataset into a training set and a test set.\n",
    "2. Create classifiers from scikit-learn and set their hyper-parameters. The classifiers include:\n",
    "   * Perceptron\n",
    "   * Logistic regression\n",
    "3. Train your classifiers with the training set.\n",
    "4. Evaluate your classifiers with the test set.\n",
    "5. Compare the performance of the classifiers. Which classifier(s) perform(s) the best and worst, and why?"
   ]
  },
  {
   "cell_type": "code",
   "execution_count": null,
   "metadata": {
    "ExecuteTime": {
     "end_time": "2022-10-27T18:32:39.076092Z",
     "start_time": "2022-10-27T18:32:38.628167Z"
    },
    "colab": {
     "base_uri": "https://localhost:8080/",
     "height": 52
    },
    "executionInfo": {
     "elapsed": 1354,
     "status": "ok",
     "timestamp": 1601878856611,
     "user": {
      "displayName": "Dirk Schnieders",
      "photoUrl": "https://lh3.googleusercontent.com/a-/AOh14GgODgJcz0dePD_sWYiYf2tTtBmdcj8_jP8_OvLy9g=s64",
      "userId": "16819858730100554095"
     },
     "user_tz": -480
    },
    "id": "G34BD-WdaneG",
    "outputId": "12c5a139-84e3-45ba-c14c-07e5fe6e8fca"
   },
   "outputs": [],
   "source": [
    "from sklearn.datasets import load_digits\n",
    "import matplotlib.pyplot as plt\n",
    "import matplotlib as mpl\n",
    "\n",
    "digits = load_digits()\n",
    "\n",
    "xs = digits.data\n",
    "ys = digits.target\n",
    "\n",
    "print(xs.shape)\n",
    "print(ys.shape)"
   ]
  },
  {
   "cell_type": "code",
   "execution_count": null,
   "metadata": {
    "ExecuteTime": {
     "end_time": "2022-10-27T18:32:39.381150Z",
     "start_time": "2022-10-27T18:32:39.077104Z"
    },
    "colab": {
     "base_uri": "https://localhost:8080/",
     "height": 602
    },
    "executionInfo": {
     "elapsed": 1659,
     "status": "ok",
     "timestamp": 1601878859720,
     "user": {
      "displayName": "Dirk Schnieders",
      "photoUrl": "https://lh3.googleusercontent.com/a-/AOh14GgODgJcz0dePD_sWYiYf2tTtBmdcj8_jP8_OvLy9g=s64",
      "userId": "16819858730100554095"
     },
     "user_tz": -480
    },
    "id": "fGu93j6CaqLq",
    "outputId": "57f8db31-4d3f-409e-876c-88aff812d40b"
   },
   "outputs": [],
   "source": [
    "mpl.rcParams[\"figure.dpi\"] = 150\n",
    "num_rows = 4\n",
    "num_cols = 5\n",
    "fig, ax = plt.subplots(nrows=num_rows, ncols=num_cols, sharex=True, sharey=True)\n",
    "ax = ax.flatten()\n",
    "\n",
    "for index in range(num_rows * num_cols):\n",
    "    img = digits.images[index]\n",
    "    label = digits.target[index]\n",
    "    ax[index].imshow(img, cmap=\"Greys\", interpolation=\"nearest\")\n",
    "    ax[index].set_title(\"digit \" + str(label))\n",
    "\n",
    "ax[0].set_xticks([])\n",
    "ax[0].set_yticks([])\n",
    "plt.tight_layout()\n",
    "plt.show()"
   ]
  },
  {
   "cell_type": "markdown",
   "metadata": {
    "id": "Vrz6Lwxja7XB"
   },
   "source": [
    "## Data Preprocessing (3 points)\n",
    "\n",
    "Hints:\n",
    "1. Divide training and test data set and apply other techniques we have learned if needed.\n",
    "2. You may add some common functions here, such as the evaluation code."
   ]
  },
  {
   "cell_type": "code",
   "execution_count": null,
   "metadata": {
    "ExecuteTime": {
     "end_time": "2022-10-27T18:32:39.395694Z",
     "start_time": "2022-10-27T18:32:39.384320Z"
    },
    "id": "OJW5hPNkbAT4"
   },
   "outputs": [],
   "source": [
    "from sklearn.model_selection import train_test_split\n",
    "import numpy as np\n",
    "\n",
    "\n",
    "def get_accuracy(ys, ys_pred):\n",
    "    # Your code, implement the code for evaluation\n",
    "    pass\n",
    "\n",
    "\n",
    "# Your code, split the train/test dataset"
   ]
  },
  {
   "cell_type": "markdown",
   "metadata": {
    "id": "GX6bWDjCLoIr"
   },
   "source": [
    "## Classifier #1 Perceptron (3 points)"
   ]
  },
  {
   "cell_type": "code",
   "execution_count": null,
   "metadata": {
    "ExecuteTime": {
     "end_time": "2022-10-27T18:32:39.447876Z",
     "start_time": "2022-10-27T18:32:39.396651Z"
    },
    "id": "lYkmrjmrLoIr"
   },
   "outputs": [],
   "source": [
    "# Example code, including training and testing, to observe the accuracies.\n",
    "from sklearn.linear_model import Perceptron\n",
    "\n",
    "# Tune the eta0 hyperparameter.\n",
    "eat0_list = [0.0001, 0.001, 0.01, 0.1, 1]\n",
    "\n",
    "# Your code here."
   ]
  },
  {
   "cell_type": "markdown",
   "metadata": {
    "id": "yfoFni6tLoIv"
   },
   "source": [
    "## Classifier #2 Logistic Regression (3 points)"
   ]
  },
  {
   "cell_type": "code",
   "execution_count": null,
   "metadata": {
    "ExecuteTime": {
     "end_time": "2022-10-27T18:32:39.900828Z",
     "start_time": "2022-10-27T18:32:39.449206Z"
    },
    "id": "eggDI2swLoIv"
   },
   "outputs": [],
   "source": [
    "# Your code, including training and testing, to observe the accuracies.\n",
    "from sklearn.linear_model import LogisticRegression\n",
    "\n",
    "# Tune the C hyperparameter.\n",
    "C_list = [1e-3, 0.001, 0.01, 1, 10, 100]"
   ]
  },
  {
   "cell_type": "markdown",
   "metadata": {},
   "source": [
    "## Classifier #3 Choose it by yourself (3 points)\n",
    "\n",
    "You are required to choose another classifier in sklearn and evaluate it yourself.  Try to find a better one than the previous two."
   ]
  },
  {
   "cell_type": "code",
   "execution_count": null,
   "metadata": {},
   "outputs": [],
   "source": [
    "# Your code, including training and testing, to observe the accuracies."
   ]
  },
  {
   "cell_type": "markdown",
   "metadata": {
    "id": "YkgMDYz7ddTe"
   },
   "source": [
    "## Discussions (3 points)\n",
    "\n",
    "Compare the performance of the classifiers. Which classifier(s) perform(s) the best and worst, and why?"
   ]
  },
  {
   "cell_type": "markdown",
   "metadata": {},
   "source": [
    "\n"
   ]
  }
 ],
 "metadata": {
  "colab": {
   "authorship_tag": "ABX9TyO1gQEo3McgnSelg/4BL/PW",
   "collapsed_sections": [],
   "name": "Comp3314 2021 Assignment 1",
   "provenance": []
  },
  "kernelspec": {
   "display_name": "Python 3 (ipykernel)",
   "language": "python",
   "name": "python3"
  },
  "language_info": {
   "codemirror_mode": {
    "name": "ipython",
    "version": 3
   },
   "file_extension": ".py",
   "mimetype": "text/x-python",
   "name": "python",
   "nbconvert_exporter": "python",
   "pygments_lexer": "ipython3",
   "version": "3.9.6"
  },
  "vscode": {
   "interpreter": {
    "hash": "d17123b7a852ae6f995cf965aca53bbdb6bda840a01f47f622e12eaae1166d96"
   }
  }
 },
 "nbformat": 4,
 "nbformat_minor": 4
}
