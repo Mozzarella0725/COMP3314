{
  "cells": [
    {
      "cell_type": "markdown",
      "id": "75eb9fe0",
      "metadata": {
        "id": "75eb9fe0"
      },
      "source": [
        "# COMP3314 Assignment1-Q2: Perceptron Boolean Operators (15 Points)"
      ]
    },
    {
      "cell_type": "markdown",
      "id": "fd2a4cc0",
      "metadata": {
        "id": "fd2a4cc0"
      },
      "source": [
        "In this question, we will build on question Q1-2 and implement boolean logic operators using perceptrons. We will implement the following operators:  `NOT`, `AND`, `OR`, `NAND`, `NOR`, `XOR`.\n",
        "\n",
        "The results of the perceptron should match the results in Q1-2. In this question, we use 0 to represent `False` and 1 to represent `True`.\n",
        "\n",
        "Your tasks:\n",
        "\n",
        "1. Implement `AND`, `OR`, `NAND`, `NOR` operators with perceptrons. The `NOT` operator is already implemented for you as a reference. Note that other operators requires two inputs `(x1, x2)`, but the `NOT` operator only requires one input `(x1)`.\n",
        "2. Run the perceptron model with the following inputs: `[(0, 0), (0, 1), (1, 0), (1, 1)]`. You should print the outputs and match them with the results in Q1-2.\n",
        "3. Implement `XOR` using the combination of the above perceptrons."
      ]
    },
    {
      "cell_type": "markdown",
      "id": "ae1b5bd6",
      "metadata": {
        "id": "ae1b5bd6"
      },
      "source": [
        "## 1. `NOT` Operator"
      ]
    },
    {
      "cell_type": "code",
      "execution_count": 1,
      "id": "875d409e",
      "metadata": {
        "ExecuteTime": {
          "end_time": "2022-10-27T18:31:57.329409Z",
          "start_time": "2022-10-27T18:31:57.325283Z"
        },
        "colab": {
          "base_uri": "https://localhost:8080/"
        },
        "id": "875d409e",
        "outputId": "8f00b563-6cba-4aab-bfa1-a4e253c27569"
      },
      "outputs": [
        {
          "output_type": "stream",
          "name": "stdout",
          "text": [
            "NOT(0) = 1\n",
            "NOT(1) = 0\n"
          ]
        }
      ],
      "source": [
        "class PerceptronNOT:\n",
        "\n",
        "    def __init__(self):\n",
        "        self.w0 = 0.5\n",
        "        self.w1 = -1\n",
        "\n",
        "    def __call__(self, x):\n",
        "        return self.forward(x)\n",
        "\n",
        "    def decision_function(self, z):\n",
        "        return 1 if z >= 0 else 0\n",
        "\n",
        "    def forward(self, x1):\n",
        "        z = self.w0 + self.w1 * x1\n",
        "        phi_z = self.decision_function(z)\n",
        "        return phi_z\n",
        "\n",
        "\n",
        "model = PerceptronNOT()\n",
        "for x1 in [0, 1]:\n",
        "    print(f\"NOT({x1}) = {model(x1)}\")"
      ]
    },
    {
      "cell_type": "markdown",
      "id": "d9464635",
      "metadata": {
        "id": "d9464635"
      },
      "source": [
        "## 2. `AND` Operator (3 points)"
      ]
    },
    {
      "cell_type": "code",
      "execution_count": 7,
      "id": "d7819474",
      "metadata": {
        "ExecuteTime": {
          "end_time": "2022-10-27T18:31:57.340736Z",
          "start_time": "2022-10-27T18:31:57.330190Z"
        },
        "colab": {
          "base_uri": "https://localhost:8080/"
        },
        "id": "d7819474",
        "outputId": "d3aa96ca-25ea-41fc-9f37-2065904d7d99"
      },
      "outputs": [
        {
          "output_type": "stream",
          "name": "stdout",
          "text": [
            "AND(0, 0) = 0\n",
            "AND(0, 1) = 0\n",
            "AND(1, 0) = 0\n",
            "AND(1, 1) = 1\n"
          ]
        }
      ],
      "source": [
        "class PerceptronAND:\n",
        "\n",
        "    def __init__(self):\n",
        "        self.w0 = -1.5\n",
        "        self.w1 = 1\n",
        "        self.w2 = 1\n",
        "\n",
        "    def __call__(self, x1, x2):\n",
        "        return self.forward(x1, x2)\n",
        "\n",
        "    def decision_function(self, z):\n",
        "        return 1 if z >= 0 else 0\n",
        "\n",
        "    def forward(self, x1, x2):\n",
        "        z = self.w0 + self.w1 * x1 + self.w2 * x2\n",
        "        phi_z = self.decision_function(z)\n",
        "        return phi_z\n",
        "\n",
        "\n",
        "model = PerceptronAND()\n",
        "for x1 in [0, 1]:\n",
        "    for x2 in [0, 1]:\n",
        "        print(f\"AND{x1, x2} = {model(x1, x2)}\")"
      ]
    },
    {
      "cell_type": "markdown",
      "id": "bf1c124c",
      "metadata": {
        "id": "bf1c124c"
      },
      "source": [
        "## 3. `OR` Operator (3 points)"
      ]
    },
    {
      "cell_type": "code",
      "execution_count": 12,
      "id": "1475e475",
      "metadata": {
        "ExecuteTime": {
          "end_time": "2022-10-27T18:31:57.344089Z",
          "start_time": "2022-10-27T18:31:57.341551Z"
        },
        "colab": {
          "base_uri": "https://localhost:8080/"
        },
        "id": "1475e475",
        "outputId": "7111e51c-1588-4eb6-8eeb-1708f9562858"
      },
      "outputs": [
        {
          "output_type": "stream",
          "name": "stdout",
          "text": [
            "OR(0, 0) = 0\n",
            "OR(0, 1) = 1\n",
            "OR(1, 0) = 1\n",
            "OR(1, 1) = 1\n"
          ]
        }
      ],
      "source": [
        "class PerceptronOR:\n",
        "\n",
        "    def __init__(self):\n",
        "        self.w0 = -0.5\n",
        "        self.w1 = 1\n",
        "        self.w2 = 1\n",
        "\n",
        "    def __call__(self, x1, x2):\n",
        "        return self.forward(x1, x2)\n",
        "\n",
        "    def decision_function(self, z):\n",
        "        return 1 if z >= 0 else 0\n",
        "\n",
        "    def forward(self, x1, x2):\n",
        "        z = self.w0 + self.w1 * x1 + self.w2 * x2\n",
        "        phi_z = self.decision_function(z)\n",
        "        return phi_z\n",
        "\n",
        "\n",
        "model = PerceptronOR()\n",
        "for x1 in [0, 1]:\n",
        "    for x2 in [0, 1]:\n",
        "        print(f\"OR{x1, x2} = {model(x1, x2)}\")"
      ]
    },
    {
      "cell_type": "markdown",
      "id": "b1cc85f1",
      "metadata": {
        "id": "b1cc85f1"
      },
      "source": [
        "## 4. `NAND` Operator (3 points)"
      ]
    },
    {
      "cell_type": "code",
      "execution_count": 10,
      "id": "ce1b3b91",
      "metadata": {
        "ExecuteTime": {
          "end_time": "2022-10-27T18:31:57.347303Z",
          "start_time": "2022-10-27T18:31:57.345083Z"
        },
        "colab": {
          "base_uri": "https://localhost:8080/"
        },
        "id": "ce1b3b91",
        "outputId": "1430069c-6c56-454b-f8ea-f1573ffec6e5"
      },
      "outputs": [
        {
          "output_type": "stream",
          "name": "stdout",
          "text": [
            "NAND(0, 0) = 1\n",
            "NAND(0, 1) = 1\n",
            "NAND(1, 0) = 1\n",
            "NAND(1, 1) = 0\n"
          ]
        }
      ],
      "source": [
        "class PerceptronNAND:\n",
        "\n",
        "    def __init__(self):\n",
        "        self.w0 = -1.5\n",
        "        self.w1 = 1\n",
        "        self.w2 = 1\n",
        "\n",
        "    def __call__(self, x1, x2):\n",
        "        return self.forward(x1, x2)\n",
        "\n",
        "    def decision_function(self, z):\n",
        "        return 1 if z < 0 else 0\n",
        "\n",
        "    def forward(self, x1, x2):\n",
        "        z = self.w0 + self.w1 * x1 + self.w2 * x2\n",
        "        phi_z = self.decision_function(z)\n",
        "        return phi_z\n",
        "\n",
        "\n",
        "model = PerceptronNAND()\n",
        "for x1 in [0, 1]:\n",
        "    for x2 in [0, 1]:\n",
        "        print(f\"NAND{x1, x2} = {model(x1, x2)}\")"
      ]
    },
    {
      "cell_type": "markdown",
      "id": "06d7a2af",
      "metadata": {
        "id": "06d7a2af"
      },
      "source": [
        "## 5. `NOR` Operator (3 points)"
      ]
    },
    {
      "cell_type": "code",
      "execution_count": 13,
      "id": "5be34b2a",
      "metadata": {
        "ExecuteTime": {
          "end_time": "2022-10-27T18:31:57.350338Z",
          "start_time": "2022-10-27T18:31:57.348021Z"
        },
        "colab": {
          "base_uri": "https://localhost:8080/"
        },
        "id": "5be34b2a",
        "outputId": "3f501c67-ece3-454a-fa81-163808c11673"
      },
      "outputs": [
        {
          "output_type": "stream",
          "name": "stdout",
          "text": [
            "NOR(0, 0) = 1\n",
            "NOR(0, 1) = 0\n",
            "NOR(1, 0) = 0\n",
            "NOR(1, 1) = 0\n"
          ]
        }
      ],
      "source": [
        "class PerceptronNOR:\n",
        "\n",
        "    def __init__(self):\n",
        "        self.w0 = -0.5\n",
        "        self.w1 = 1\n",
        "        self.w2 = 1\n",
        "\n",
        "    def __call__(self, x1, x2):\n",
        "        return self.forward(x1, x2)\n",
        "\n",
        "    def decision_function(self, z):\n",
        "        return 1 if z <= 0 else 0\n",
        "\n",
        "    def forward(self, x1, x2):\n",
        "        z = self.w0 + self.w1 * x1 + self.w2 * x2\n",
        "        phi_z = self.decision_function(z)\n",
        "        return phi_z\n",
        "\n",
        "\n",
        "model = PerceptronNOR()\n",
        "for x1 in [0, 1]:\n",
        "    for x2 in [0, 1]:\n",
        "        print(f\"NOR{x1, x2} = {model(x1, x2)}\")"
      ]
    },
    {
      "cell_type": "markdown",
      "id": "3a341107",
      "metadata": {
        "id": "3a341107"
      },
      "source": [
        "## 6.  `XOR` Operator (3 points)\n",
        "1. Implement the XOR Operator with the combinations of the operators above.\n",
        "2. Could a single layer Perceptron conduct `XOR`? Explain your answer."
      ]
    },
    {
      "cell_type": "code",
      "execution_count": 21,
      "id": "2d080c7b",
      "metadata": {
        "colab": {
          "base_uri": "https://localhost:8080/"
        },
        "id": "2d080c7b",
        "outputId": "0faa4d49-9457-46f1-b04f-c3b1eb9449af"
      },
      "outputs": [
        {
          "output_type": "stream",
          "name": "stdout",
          "text": [
            "XOR(0, 0) = 0\n",
            "XOR(0, 1) = 1\n",
            "XOR(1, 0) = 1\n",
            "XOR(1, 1) = 0\n"
          ]
        }
      ],
      "source": [
        "class PerceptronAND:\n",
        "\n",
        "    def __init__(self):\n",
        "        self.w0 = -1.5\n",
        "        self.w1 = 1\n",
        "        self.w2 = 1\n",
        "\n",
        "    def __call__(self, x1, x2):\n",
        "        return self.forward(x1, x2)\n",
        "\n",
        "    def decision_function(self, z):\n",
        "        return 1 if z >= 0 else 0\n",
        "\n",
        "    def forward(self, x1, x2):\n",
        "        z = self.w0 + self.w1 * x1 + self.w2 * x2\n",
        "        phi_z = self.decision_function(z)\n",
        "        return phi_z\n",
        "\n",
        "class PerceptronOR:\n",
        "\n",
        "    def __init__(self):\n",
        "        self.w0 = -0.5\n",
        "        self.w1 = 1\n",
        "        self.w2 = 1\n",
        "\n",
        "    def __call__(self, x1, x2):\n",
        "        return self.forward(x1, x2)\n",
        "\n",
        "    def decision_function(self, z):\n",
        "        return 1 if z >= 0 else 0\n",
        "\n",
        "    def forward(self, x1, x2):\n",
        "        z = self.w0 + self.w1 * x1 + self.w2 * x2\n",
        "        phi_z = self.decision_function(z)\n",
        "        return phi_z\n",
        "\n",
        "class PerceptronXOR:\n",
        "\n",
        "    def __call__(self, x1, x2):\n",
        "        return self.forward(x1, x2)\n",
        "\n",
        "    def forward(self, x1, x2):\n",
        "        if AND(x1, x2) == 0:\n",
        "            if OR(x1, x2) == 1:\n",
        "                return 1\n",
        "            else:\n",
        "                return 0\n",
        "        else:\n",
        "            return 0\n",
        "\n",
        "AND = PerceptronAND()\n",
        "OR = PerceptronOR()\n",
        "model = PerceptronXOR()\n",
        "for x1 in [0, 1]:\n",
        "    for x2 in [0, 1]:\n",
        "        print(f\"XOR{x1, x2} = {model(x1, x2)}\")"
      ]
    }
  ],
  "metadata": {
    "kernelspec": {
      "display_name": "Python 3 (ipykernel)",
      "language": "python",
      "name": "python3"
    },
    "language_info": {
      "codemirror_mode": {
        "name": "ipython",
        "version": 3
      },
      "file_extension": ".py",
      "mimetype": "text/x-python",
      "name": "python",
      "nbconvert_exporter": "python",
      "pygments_lexer": "ipython3",
      "version": "3.9.18"
    },
    "vscode": {
      "interpreter": {
        "hash": "49c48b447b9efd9c07d32c0dec9df5e0c02b4225e51c3003920687e790460610"
      }
    },
    "colab": {
      "provenance": []
    }
  },
  "nbformat": 4,
  "nbformat_minor": 5
}