{
 "cells": [
  {
   "cell_type": "markdown",
   "id": "75eb9fe0",
   "metadata": {},
   "source": [
    "# COMP3314 Assignment1-Q2: Perceptron Boolean Operators (15 Points)"
   ]
  },
  {
   "cell_type": "markdown",
   "id": "fd2a4cc0",
   "metadata": {},
   "source": [
    "In this question, we will build on question Q1-2 and implement boolean logic operators using perceptrons. We will implement the following operators:  `NOT`, `AND`, `OR`, `NAND`, `NOR`, `XOR`.\n",
    "\n",
    "The results of the perceptron should match the results in Q1-2. In this question, we use 0 to represent `False` and 1 to represent `True`.\n",
    "\n",
    "Your tasks:\n",
    "\n",
    "1. Implement `AND`, `OR`, `NAND`, `NOR` operators with perceptrons. The `NOT` operator is already implemented for you as a reference. Note that other operators requires two inputs `(x1, x2)`, but the `NOT` operator only requires one input `(x1)`. \n",
    "2. Run the perceptron model with the following inputs: `[(0, 0), (0, 1), (1, 0), (1, 1)]`. You should print the outputs and match them with the results in Q1-2.\n",
    "3. Implement `XOR` using the combination of the above perceptrons."
   ]
  },
  {
   "cell_type": "markdown",
   "id": "ae1b5bd6",
   "metadata": {},
   "source": [
    "## 1. `NOT` Operator"
   ]
  },
  {
   "cell_type": "code",
   "execution_count": null,
   "id": "875d409e",
   "metadata": {
    "ExecuteTime": {
     "end_time": "2022-10-27T18:31:57.329409Z",
     "start_time": "2022-10-27T18:31:57.325283Z"
    }
   },
   "outputs": [],
   "source": [
    "class PerceptronNOT:\n",
    "\n",
    "    def __init__(self):\n",
    "        self.w0 = 0.5\n",
    "        self.w1 = -1\n",
    "\n",
    "    def __call__(self, x):\n",
    "        return self.forward(x)\n",
    "\n",
    "    def decision_function(self, z):\n",
    "        return 1 if z >= 0 else 0\n",
    "\n",
    "    def forward(self, x1):\n",
    "        z = self.w0 + self.w1 * x1\n",
    "        phi_z = self.decision_function(z)\n",
    "        return phi_z\n",
    "\n",
    "\n",
    "model = PerceptronNOT()\n",
    "for x1 in [0, 1]:\n",
    "    print(f\"NOT({x1}) = {model(x1)}\")"
   ]
  },
  {
   "cell_type": "markdown",
   "id": "d9464635",
   "metadata": {},
   "source": [
    "## 2. `AND` Operator (3 points)"
   ]
  },
  {
   "cell_type": "code",
   "execution_count": null,
   "id": "d7819474",
   "metadata": {
    "ExecuteTime": {
     "end_time": "2022-10-27T18:31:57.340736Z",
     "start_time": "2022-10-27T18:31:57.330190Z"
    }
   },
   "outputs": [],
   "source": []
  },
  {
   "cell_type": "markdown",
   "id": "bf1c124c",
   "metadata": {},
   "source": [
    "## 3. `OR` Operator (3 points)"
   ]
  },
  {
   "cell_type": "code",
   "execution_count": null,
   "id": "1475e475",
   "metadata": {
    "ExecuteTime": {
     "end_time": "2022-10-27T18:31:57.344089Z",
     "start_time": "2022-10-27T18:31:57.341551Z"
    }
   },
   "outputs": [],
   "source": []
  },
  {
   "cell_type": "markdown",
   "id": "b1cc85f1",
   "metadata": {},
   "source": [
    "## 4. `NAND` Operator (3 points)"
   ]
  },
  {
   "cell_type": "code",
   "execution_count": null,
   "id": "ce1b3b91",
   "metadata": {
    "ExecuteTime": {
     "end_time": "2022-10-27T18:31:57.347303Z",
     "start_time": "2022-10-27T18:31:57.345083Z"
    }
   },
   "outputs": [],
   "source": []
  },
  {
   "cell_type": "markdown",
   "id": "06d7a2af",
   "metadata": {},
   "source": [
    "## 5. `NOR` Operator (3 points)"
   ]
  },
  {
   "cell_type": "code",
   "execution_count": null,
   "id": "5be34b2a",
   "metadata": {
    "ExecuteTime": {
     "end_time": "2022-10-27T18:31:57.350338Z",
     "start_time": "2022-10-27T18:31:57.348021Z"
    }
   },
   "outputs": [],
   "source": []
  },
  {
   "cell_type": "markdown",
   "id": "3a341107",
   "metadata": {},
   "source": [
    "## 6.  `XOR` Operator (3 points)\n",
    "1. Implement the XOR Operator with the combinations of the operators above.\n",
    "2. Could a single layer Perceptron conduct `XOR`? Explain your answer."
   ]
  },
  {
   "cell_type": "code",
   "execution_count": null,
   "id": "2d080c7b",
   "metadata": {},
   "outputs": [],
   "source": []
  }
 ],
 "metadata": {
  "kernelspec": {
   "display_name": "Python 3 (ipykernel)",
   "language": "python",
   "name": "python3"
  },
  "language_info": {
   "codemirror_mode": {
    "name": "ipython",
    "version": 3
   },
   "file_extension": ".py",
   "mimetype": "text/x-python",
   "name": "python",
   "nbconvert_exporter": "python",
   "pygments_lexer": "ipython3",
   "version": "3.9.18"
  },
  "vscode": {
   "interpreter": {
    "hash": "49c48b447b9efd9c07d32c0dec9df5e0c02b4225e51c3003920687e790460610"
   }
  }
 },
 "nbformat": 4,
 "nbformat_minor": 5
}
