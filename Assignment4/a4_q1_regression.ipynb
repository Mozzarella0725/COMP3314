{
 "cells": [
  {
   "cell_type": "markdown",
   "id": "20aaa641-372f-4c05-a526-9e995e550654",
   "metadata": {},
   "source": [
    " # COMP3314 - Assignment 4 Question 1: Regression (30 Points)"
   ]
  },
  {
   "cell_type": "markdown",
   "id": "73048d4c-30da-47b2-b001-e213f025bb1b",
   "metadata": {},
   "source": [
    "A small business has been tracking its yearly profits and the number of advertisement spots purchased each year for the past four years. They are interested in understanding how their advertising efforts affect their annual profits using simple linear regression.\n",
    "\n",
    "The data collected from 2020 to 2023 is as follows:\n",
    "\n",
    "| Year | Advertisement Cost ($x_i$)  | Annual Profit ($y_i$) |\n",
    "|------|-----------------------------|-----------------------|\n",
    "| 2020 | 20                          | 60                    |\n",
    "| 2021 | 40                          | 65                    |\n",
    "| 2022 | 60                          | 75                    |\n",
    "| 2023 | 80                          | 85                    |\n"
   ]
  },
  {
   "cell_type": "markdown",
   "id": "c92197b5-feab-4e6f-815f-a260acc60122",
   "metadata": {},
   "source": [
    "## Q1-1 (5 points)\n",
    "\n",
    "For the regression model, the predicted value $\\hat{y}_i$ is calculated as:\n",
    "$$\n",
    "\\hat{y}_i=w_0+w_1 x_i\n",
    "$$\n",
    "where:\n",
    "- $w_0$ is the intercept of the regression line,\n",
    "- $w_1$ is the slope of the regression line,\n",
    "- $x_i$ is the number of advertisement spots in the i-th data point.\n",
    "\n",
    "Write down the formula for computing the sum of squared errors (SSE) between the predicted values and the actual values for the given data points. We denote the actual value as $y_i$ and the predicted value as $\\hat{y}_i$, and the SSE is denoted as $S$."
   ]
  },
  {
   "cell_type": "markdown",
   "id": "9a6d1563",
   "metadata": {},
   "source": [
    "Your solution here:"
   ]
  },
  {
   "cell_type": "markdown",
   "id": "43cdfc73",
   "metadata": {},
   "source": [
    "The Sum of Squared Errors (SSE) is a measure of how well the regression model fits the actual data. It is calculated by summing the squared differences between the actual values $y_i$ and the predicted values $\\hat{y}_i$ for each data point. The formula for SSE is:\n",
    "$$\n",
    "S = \\sum_{i=1}^{n} (y_i - \\hat{y}_i)^2\n",
    "$$\n",
    "\n",
    "Substituting the regression model $ \\hat{y}_i = w_0 + w_1 x_i $ into this, we get:\n",
    "$$\n",
    "S = \\sum_{i=1}^{n} \\left( y_i - (w_0 + w_1 x_i) \\right)^2\n",
    "$$\n",
    "where:\n",
    "- $y_i$ is the actual value of the profit for the $i$-th data point,\n",
    "- $\\hat{y}_i = w_0 + w_1 x_i$ is the predicted value of the profit based on the advertisement cost $x_i$,\n",
    "- $n$ is the number of data points (in this case, $n = 4$."
   ]
  },
  {
   "cell_type": "markdown",
   "id": "46071802",
   "metadata": {},
   "source": [
    "## Q1-2 (5 points)\n",
    "\n",
    "Compute the partial derivatives of the sum of $S$ with respect to the intercept $w_0$ and the slope $w_1$, denoted as $\\frac{\\partial S}{\\partial w_0}$ and $\\frac{\\partial S}{\\partial w_1}$, respectively."
   ]
  },
  {
   "cell_type": "markdown",
   "id": "fec9d6af",
   "metadata": {},
   "source": [
    "Your solution here:"
   ]
  },
  {
   "cell_type": "markdown",
   "id": "c1e5eff4",
   "metadata": {},
   "source": [
    "To compute the partial derivatives of the sum of squared errors (SSE) with respect to the intercept $w_0$ and the slope $w_1$, we begin by writing the expression for 0:\n",
    "\n",
    "$$\n",
    "S = \\sum_{i=1}^{n} \\left( y_i - (w_0 + w_1 x_i) \\right)^2\n",
    "$$\n",
    "\n",
    "### Partial derivative with respect to $w_0$:\n",
    "\n",
    "To compute $\\frac{\\partial S}{\\partial w_0}$, we differentiate $S$ with respect to $w_0$:\n",
    "\n",
    "$$\n",
    "\\frac{\\partial S}{\\partial w_0} = \\frac{\\partial}{\\partial w_0} \\sum_{i=1}^{n} \\left( y_i - (w_0 + w_1 x_i) \\right)^2\n",
    "$$\n",
    "\n",
    "Using the chain rule:\n",
    "\n",
    "$$\n",
    "\\frac{\\partial S}{\\partial w_0} = \\sum_{i=1}^{n} 2 \\left( y_i - (w_0 + w_1 x_i) \\right) \\cdot (-1)\n",
    "$$\n",
    "\n",
    "Simplifying the expression:\n",
    "\n",
    "$$\n",
    "\\frac{\\partial S}{\\partial w_0} = -2 \\sum_{i=1}^{n} \\left( y_i - w_0 - w_1 x_i \\right)\n",
    "$$\n",
    "\n",
    "### Partial derivative with respect to $w_1$:\n",
    "\n",
    "Similarly, to compute  $\\frac{\\partial S}{\\partial w_1}$, we differentiate $S$ with respect to $w_0$:\n",
    "\n",
    "$$\n",
    "\\frac{\\partial S}{\\partial w_1} = \\frac{\\partial}{\\partial w_1} \\sum_{i=1}^{n} \\left( y_i - (w_0 + w_1 x_i) \\right)^2\n",
    "$$\n",
    "\n",
    "Using the chain rule:\n",
    "\n",
    "$$\n",
    "\\frac{\\partial S}{\\partial w_1} = \\sum_{i=1}^{n} 2 \\left( y_i - (w_0 + w_1 x_i) \\right) \\cdot (-x_i)\n",
    "$$\n",
    "\n",
    "Simplifying:\n",
    "\n",
    "$$\n",
    "\\frac{\\partial S}{\\partial w_1} = -2 \\sum_{i=1}^{n} \\left( y_i - w_0 - w_1 x_i \\right) x_i\n",
    "$$\n"
   ]
  },
  {
   "cell_type": "markdown",
   "id": "de847c0a",
   "metadata": {},
   "source": [
    "## Q1-3 (10 points)\n",
    "\n",
    "Given the data points, compute the optimal values of $w_0$ and $w_1$ that minimize the sum of squared errors $S$. You shall first set the partial derivatives to zero, i.e., $\\frac{\\partial S}{\\partial w_0}=0$ and $\\frac{\\partial S}{\\partial w_1}=0$, and then solve the equations to find the optimal values of $w_0$ and $w_1$."
   ]
  },
  {
   "cell_type": "markdown",
   "id": "bcb2be67",
   "metadata": {},
   "source": [
    "Your solution here:"
   ]
  },
  {
   "cell_type": "markdown",
   "id": "b039e1ee",
   "metadata": {},
   "source": [
    "To find the optimal values of $w_0$ and $w_1$ that minimize the sum of squared errors $S$, we first set the partial derivatives to zero and solve the resulting system of equations.\n",
    "\n",
    "### 1. Partial derivatives:\n",
    "\n",
    "From the previous questions, the partial derivatives of SSE are:\n",
    "$$\n",
    "\\frac{\\partial S}{\\partial w_0} = -2 \\sum_{i=1}^{n} \\left( y_i - w_0 - w_1 x_i \\right) = 0\n",
    "$$\n",
    "$$\n",
    "\\frac{\\partial S}{\\partial w_1} = -2 \\sum_{i=1}^{n} \\left( y_i - w_0 - w_1 x_i \\right) x_i = 0\n",
    "$$\n",
    "\n",
    "### 2. Solve the system of equations:\n",
    "\n",
    "#### For $w_0$:\n",
    "\n",
    "We first solve the equation for $w_0$ by setting the partial derivative with respect to $w_0$ equal to zero:\n",
    "$$\n",
    "\\sum_{i=1}^{n} \\left( y_i - w_0 - w_1 x_i \\right) = 0\n",
    "$$\n",
    "\n",
    "Expanding the sum:\n",
    "$$\n",
    "\\sum_{i=1}^{n} y_i - n w_0 - w_1 \\sum_{i=1}^{n} x_i = 0\n",
    "$$\n",
    "\n",
    "Solving for $w_0$:\n",
    "$$\n",
    "n w_0 = \\sum_{i=1}^{n} y_i - w_1 \\sum_{i=1}^{n} x_i\n",
    "$$\n",
    "$$\n",
    "w_0 = \\frac{1}{n} \\left( \\sum_{i=1}^{n} y_i - w_1 \\sum_{i=1}^{n} x_i \\right)\n",
    "$$\n",
    "\n",
    "#### For $w_1$:\n",
    "\n",
    "Next, we solve for $w_1$ by setting the partial derivative with respect to $w_1$ equal to zero:\n",
    "$$\n",
    "\\sum_{i=1}^{n} \\left( y_i - w_0 - w_1 x_i \\right) x_i = 0\n",
    "$$\n",
    "\n",
    "Expanding the sum:\n",
    "$$\n",
    "\\sum_{i=1}^{n} y_i x_i - w_0 \\sum_{i=1}^{n} x_i - w_1 \\sum_{i=1}^{n} x_i^2 = 0\n",
    "$$\n",
    "\n",
    "Substituting the expression for $w_0$ from the first equation:\n",
    "$$\n",
    "\\sum_{i=1}^{n} y_i x_i - \\left( \\frac{1}{n} \\left( \\sum_{i=1}^{n} y_i - w_1 \\sum_{i=1}^{n} x_i \\right) \\right) \\sum_{i=1}^{n} x_i - w_1 \\sum_{i=1}^{n} x_i^2 = 0\n",
    "$$\n",
    "\n",
    "Simplifying:\n",
    "$$\n",
    "w_1 = \\frac{n \\sum_{i=1}^{n} y_i x_i - \\sum_{i=1}^{n} y_i \\sum_{i=1}^{n} x_i}{n \\sum_{i=1}^{n} x_i^2 - \\left( \\sum_{i=1}^{n} x_i \\right)^2}\n",
    "$$\n",
    "\n",
    "### 3. Computation:\n",
    "\n",
    "Given the data:\n",
    "| Year | Advertisement Cost ($x_i$) | Annual Profit ($y_i$) |\n",
    "|------|------------------------------|-------------------------|\n",
    "| 2020 | 20                           | 60                      |\n",
    "| 2021 | 40                           | 65                      |\n",
    "| 2022 | 60                           | 75                      |\n",
    "| 2023 | 80                           | 85                      |\n",
    "\n",
    "Let’s compute the required values:\n",
    "\n",
    "#### Step 1: Compute the sums\n",
    "- $ \\sum_{i=1}^{n} x_i = 20 + 40 + 60 + 80 = 200 $\n",
    "- $ \\sum_{i=1}^{n} y_i = 60 + 65 + 75 + 85 = 285 $\n",
    "- $ \\sum_{i=1}^{n} x_i^2 = 20^2 + 40^2 + 60^2 + 80^2 = 400 + 1600 + 3600 + 6400 = 12000 $\n",
    "- $ \\sum_{i=1}^{n} y_i x_i = 20 \\times 60 + 40 \\times 65 + 60 \\times 75 + 80 \\times 85 = 1200 + 2600 + 4500 + 6800 = 15100 $\n",
    "\n",
    "#### Step 2: Compute $w_1$\n",
    "\n",
    "Using the formula for $w_1$:\n",
    "$$\n",
    "w_1 = \\frac{n \\sum_{i=1}^{n} y_i x_i - \\sum_{i=1}^{n} y_i \\sum_{i=1}^{n} x_i}{n \\sum_{i=1}^{n} x_i^2 - \\left( \\sum_{i=1}^{n} x_i \\right)^2}\n",
    "$$\n",
    "\n",
    "Substitute the values:\n",
    "$$\n",
    "w_1 = \\frac{4 \\times 15100 - 285 \\times 200}{4 \\times 12000 - 200^2}\n",
    "$$\n",
    "\n",
    "Simplify the calculation:\n",
    "$$\n",
    "w_1 = \\frac{60400 - 57000}{48000 - 40000} = \\frac{3400}{8000} = 0.425\n",
    "$$\n",
    "\n",
    "#### Step 3: Compute $w_0$\n",
    "\n",
    "Using the formula for $w_0$:\n",
    "$$\n",
    "w_0 = \\frac{1}{n} \\left( \\sum_{i=1}^{n} y_i - w_1 \\sum_{i=1}^{n} x_i \\right)\n",
    "$$\n",
    "\n",
    "Substitute the values:\n",
    "$$\n",
    "w_0 = \\frac{1}{4} \\left( 285 - 0.425 \\times 200 \\right) = \\frac{1}{4} \\left( 285 - 85 \\right) = \\frac{1}{4} \\times 200 = 50\n",
    "$$\n",
    "\n",
    "### 4. Results:\n",
    "\n",
    "Thus, the optimal values are:\n",
    "- $w_0 = 50$\n",
    "- $w_1 = 0.425$"
   ]
  },
  {
   "cell_type": "markdown",
   "id": "ff793a08",
   "metadata": {},
   "source": [
    "## Q1-4 (5 points)\n",
    "\n",
    "The company plans to spend 100 on advertisement spots in year 2024. Using the regression model, what is the predicted profit for the company in 2024?"
   ]
  },
  {
   "cell_type": "markdown",
   "id": "56f9d4a7",
   "metadata": {},
   "source": [
    "Your solution here:"
   ]
  },
  {
   "cell_type": "markdown",
   "id": "4d0ac0c0",
   "metadata": {},
   "source": [
    "To predict the profit for the company in 2024, we can use the regression model:\n",
    "$$\n",
    "\\hat{y}_i = w_0 + w_1 x_i\n",
    "$$\n",
    "\n",
    "Where:\n",
    "- $w_0$ is the intercept,\n",
    "- $w_1$ is the slope,\n",
    "- $x_i$ is the number of advertisement spots.\n",
    "\n",
    "Now, we can use the regression equation to predict the profit for $x = 100$ (the advertisement cost in 2024):\n",
    "$$\n",
    "\\hat{y}_{2024} = w_0 + w_1 \\times 100\n",
    "$$\n",
    "\n",
    "Substitute the values of $w_0$ and $w_1$:\n",
    "$$\n",
    "\\hat{y}_{2024} = 50 + 0.425 \\times 100 = 92.5\n",
    "$$\n",
    "\n",
    "Thus, the predicted profit for the company in 2024 is **92.5**.\n"
   ]
  },
  {
   "cell_type": "markdown",
   "id": "648f4c52",
   "metadata": {},
   "source": [
    "## Q1-5 (5 points)\n",
    "\n",
    "Write a Python code with sklearn to perform linear regression on the given data points and predict the profit for the company in 2024. Print out the optimal values of $w_0$ and $w_1$ and the predicted profit for 2024 and compare the results with the manual calculation."
   ]
  },
  {
   "cell_type": "markdown",
   "id": "da24d36c-9ef4-4391-9f0d-8fd14de30875",
   "metadata": {},
   "source": [
    "Your solution here:"
   ]
  },
  {
   "cell_type": "code",
   "execution_count": 1,
   "id": "3338b9f6",
   "metadata": {},
   "outputs": [
    {
     "name": "stdout",
     "output_type": "stream",
     "text": [
      "Optimal value of w_0 (intercept): 50.0\n",
      "Optimal value of w_1 (slope): 0.425\n",
      "Predicted profit for 2024: 92.5\n"
     ]
    }
   ],
   "source": [
    "import numpy as np\n",
    "from sklearn.linear_model import LinearRegression\n",
    "\n",
    "x = np.array([20, 40, 60, 80]).reshape(-1, 1)  # Advertisement costs (x_i)\n",
    "y = np.array([60, 65, 75, 85])  # Annual profits (y_i)\n",
    "\n",
    "# Step 1: Create the linear regression model\n",
    "model = LinearRegression()\n",
    "\n",
    "# Step 2: Fit the model to the data\n",
    "model.fit(x, y)\n",
    "\n",
    "# Step 3: Extract the optimal values of w_0 (intercept) and w_1 (slope)\n",
    "w_0 = model.intercept_  \n",
    "w_1 = model.coef_[0] \n",
    "\n",
    "# Step 4: Predict the profit for the year 2024 (advertisement cost = 100)\n",
    "x_2024 = np.array([[100]]) \n",
    "predicted_profit_2024 = model.predict(x_2024)[0]\n",
    "\n",
    "# Step 5: Print the results\n",
    "print(f\"Optimal value of w_0 (intercept): {w_0}\")\n",
    "print(f\"Optimal value of w_1 (slope): {w_1}\")\n",
    "print(f\"Predicted profit for 2024: {predicted_profit_2024}\")\n"
   ]
  },
  {
   "cell_type": "markdown",
   "id": "31b43838",
   "metadata": {},
   "source": [
    "The results are the same with the manual calculation."
   ]
  }
 ],
 "metadata": {
  "kernelspec": {
   "display_name": "Python 3 (ipykernel)",
   "language": "python",
   "name": "python3"
  },
  "language_info": {
   "codemirror_mode": {
    "name": "ipython",
    "version": 3
   },
   "file_extension": ".py",
   "mimetype": "text/x-python",
   "name": "python",
   "nbconvert_exporter": "python",
   "pygments_lexer": "ipython3",
   "version": "3.10.5"
  }
 },
 "nbformat": 4,
 "nbformat_minor": 5
}
