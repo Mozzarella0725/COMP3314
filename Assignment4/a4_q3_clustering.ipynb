{
 "cells": [
  {
   "cell_type": "markdown",
   "metadata": {
    "id": "niaqYGkg8Nmk"
   },
   "source": [
    "# COMP3314 Assignment4-Q3: K-means Clustering (40 Points)\n",
    "\n",
    "\n",
    "In this task, we'll utilize the k-means algorithm to compress image colors. Consider an image containing millions of colors. Typically, many of these colors remain unused, with numerous pixels sharing similar or identical colors.\n",
    "\n",
    "\n",
    "Your tasks:\n",
    "\n",
    "1. Utilize Scikit-Learn's implementation to perform color compression.\n",
    "2. Independently implement the k-means algorithm.\n",
    "3. Investigate the impact of initial point selection on the results."
   ]
  },
  {
   "cell_type": "markdown",
   "metadata": {
    "id": "pAu7Rz_x_66B"
   },
   "source": [
    "## Step 1: Image processing (code given)\n",
    "Display the example image and transform it into a set of data points."
   ]
  },
  {
   "cell_type": "code",
   "execution_count": null,
   "metadata": {
    "colab": {
     "base_uri": "https://localhost:8080/",
     "height": 423
    },
    "collapsed": false,
    "id": "ccOO7rfdvBnh",
    "jupyter": {
     "outputs_hidden": false
    },
    "outputId": "2e9f0766-e706-49b3-bbe6-1043798efdfd"
   },
   "outputs": [],
   "source": [
    "\"\"\"\n",
    "You'll need to install necessary packages, e.g.\n",
    "- numpy\n",
    "- matplotlib\n",
    "- pillow\n",
    "- scikit-learn\n",
    "- and etc.\n",
    "\"\"\"\n",
    "\n",
    "import requests\n",
    "from PIL import Image\n",
    "from io import BytesIO\n",
    "import numpy as np\n",
    "import matplotlib.pyplot as plt"
   ]
  },
  {
   "cell_type": "code",
   "execution_count": null,
   "metadata": {},
   "outputs": [],
   "source": [
    "def load_image_from_url(url):\n",
    "    \"\"\"\n",
    "    Load an image from a URL and return it as a floating-point numpy array.\n",
    "\n",
    "    Args:\n",
    "        url (str): The URL of the image.\n",
    "\n",
    "    Returns:\n",
    "        np.ndarray: Floating-point array representation of the image, or None if an error occurred.\n",
    "    \"\"\"\n",
    "    try:\n",
    "        response = requests.get(url)\n",
    "        if response.status_code == 200:\n",
    "            im = Image.open(BytesIO(response.content))\n",
    "            if im.mode != \"RGB\":\n",
    "                im = im.convert(\"RGB\")\n",
    "            im_array = np.asarray(im).astype(\"float32\") / 255.0\n",
    "            return im_array\n",
    "        else:\n",
    "            print(f\"Failed to retrieve the image: Status code {response.status_code}\")\n",
    "            return None\n",
    "    except Exception as e:\n",
    "        print(f\"An error occurred: {e}\")\n",
    "        return None\n",
    "\n",
    "\n",
    "im = load_image_from_url(\n",
    "    \"https://github.com/comp3314/hw-data/releases/download/hw3/summer_palace.jpg\"\n",
    ")\n",
    "print(f\"Image's shape     : {im.shape}\")\n",
    "print(f\"Image's data type : {im.dtype}\")\n",
    "print(f\"Image's data range: {np.min(im, axis=(0,1))} ~ {np.max(im, axis=(0,1))}\")\n",
    "\n",
    "plt.imshow(im)\n",
    "plt.show()"
   ]
  },
  {
   "cell_type": "markdown",
   "metadata": {
    "id": "cZ1byzR3vBni"
   },
   "source": [
    "Reshape the image as a collection of points within a three-dimensional color space. We'll reshape it into `(n_samples, n_features)`, where `n_samples` is the number of pixels in the image and `n_features` is 3, representing the RGB values of each pixel."
   ]
  },
  {
   "cell_type": "code",
   "execution_count": null,
   "metadata": {
    "colab": {
     "base_uri": "https://localhost:8080/"
    },
    "collapsed": false,
    "id": "eV4KqcSlvBni",
    "jupyter": {
     "outputs_hidden": false
    },
    "outputId": "d43e3ccb-4cd7-4fb9-88e1-940655b280b4"
   },
   "outputs": [],
   "source": [
    "data = im.reshape(-1, 3)\n",
    "print(data.shape)"
   ]
  },
  {
   "cell_type": "markdown",
   "metadata": {
    "id": "qItHa5RJvBnj"
   },
   "source": [
    "## Step 2: Implement K-means with random initialization (10 points)\n",
    "\n",
    "You're given the following framework code for the K-means algorithm. You'll need to implement:\n",
    "\n",
    "- `_initialize_centers_random()`: Initialize the cluster centers randomly (5 points).\n",
    "- `fit()`: Fit the data to the model (5 points)."
   ]
  },
  {
   "cell_type": "code",
   "execution_count": null,
   "metadata": {
    "id": "JoBJFcXMHJVt"
   },
   "outputs": [],
   "source": [
    "import numpy as np\n",
    "\n",
    "\n",
    "class KMeans:\n",
    "    def __init__(self, n_clusters=8, max_iter=300, initialization=\"random\"):\n",
    "        self.n_clusters = n_clusters\n",
    "        self.max_iter = max_iter\n",
    "        self.cluster_centers_ = None\n",
    "        self.initialization = initialization\n",
    "\n",
    "        if self.initialization not in [\"random\", \"fps\"]:\n",
    "            raise ValueError(\"Invalid initialization method.\")\n",
    "\n",
    "    def _initialize_centers_random(self, X):\n",
    "        \"\"\"\n",
    "        Initialize the cluster centers by randomly selecting `n_clusters` samples.\n",
    "        \"\"\"\n",
    "        # === Your code here ===\n",
    "        # ======================\n",
    "\n",
    "    def _initialize_centers_fps(self, X):\n",
    "        \"\"\"\n",
    "        Initialize the cluster centers by using the Farthest Point Sampling\n",
    "        (FPS) algorithm.\n",
    "\n",
    "        - It starts from a randomly selected sample as the first center.\n",
    "        - Then in each iteration, it selects the sample that is the farthest\n",
    "          from the set of selected centers.\n",
    "        \"\"\"\n",
    "        # === Your code here ===\n",
    "        # ======================\n",
    "\n",
    "    def fit(self, X):\n",
    "        if self.initialization == \"random\":\n",
    "            self._initialize_centers_random(X)\n",
    "        elif self.initialization == \"fps\":\n",
    "            self._initialize_centers_fps(X)\n",
    "        else:\n",
    "            raise ValueError(\"Invalid initialization method.\")\n",
    "\n",
    "        # === Your code here ===\n",
    "        # ======================\n",
    "\n",
    "    def predict(self, X):\n",
    "        distances = np.linalg.norm(X[:, np.newaxis] - self.cluster_centers_, axis=2)\n",
    "        return np.argmin(distances, axis=1)"
   ]
  },
  {
   "cell_type": "markdown",
   "metadata": {
    "id": "WrSGpiN9RBXN"
   },
   "source": [
    "Now, let's run your code and visualize the compression results."
   ]
  },
  {
   "cell_type": "code",
   "execution_count": null,
   "metadata": {
    "colab": {
     "base_uri": "https://localhost:8080/",
     "height": 464
    },
    "id": "65e03QhnQ32r",
    "outputId": "9a3f66f1-3cf1-4789-f931-3067490e8511"
   },
   "outputs": [],
   "source": [
    "\"\"\"\n",
    "Do not change code in this cell.\n",
    "\"\"\"\n",
    "\n",
    "kmeans = KMeans(n_clusters=10, max_iter=300, initialization=\"random\")\n",
    "kmeans.fit(data)\n",
    "im_compressed = kmeans.cluster_centers_[kmeans.predict(data)].reshape(im.shape)\n",
    "\n",
    "fig, ax = plt.subplots(1, 2, figsize=(8, 4), subplot_kw=dict(xticks=[], yticks=[]))\n",
    "fig.subplots_adjust(wspace=0.05)\n",
    "ax[0].imshow(im)\n",
    "ax[0].set_title(\"Original Image\")\n",
    "ax[1].imshow(im_compressed)\n",
    "ax[1].set_title(\"Compressed Image (Random Init)\")"
   ]
  },
  {
   "cell_type": "markdown",
   "metadata": {},
   "source": [
    "## Step 3: Initialization by furthest point sampling (10 points)\n",
    "\n",
    "Next, implement the `_initialize_centers_fps()` method to initialize the cluster centers by the FPS algorithm. It starts from a randomly selected sample as the first center. Then in each iteration, it selects the sample that is the farthest from the set of selected centers. We'll the visualize the results."
   ]
  },
  {
   "cell_type": "code",
   "execution_count": null,
   "metadata": {},
   "outputs": [],
   "source": [
    "\"\"\"\n",
    "Do not change code in this cell.\n",
    "\"\"\"\n",
    "\n",
    "kmeans = KMeans(n_clusters=10, max_iter=300, initialization=\"fps\")\n",
    "kmeans.fit(data)\n",
    "im_compressed = kmeans.cluster_centers_[kmeans.predict(data)].reshape(im.shape)\n",
    "\n",
    "fig, ax = plt.subplots(1, 2, figsize=(8, 4), subplot_kw=dict(xticks=[], yticks=[]))\n",
    "fig.subplots_adjust(wspace=0.05)\n",
    "ax[0].imshow(im)\n",
    "ax[0].set_title(\"Original Image\")\n",
    "ax[1].imshow(im_compressed)\n",
    "ax[1].set_title(\"Compressed Image (FPS Init)\")"
   ]
  },
  {
   "cell_type": "markdown",
   "metadata": {},
   "source": [
    "## Step 4: Evaluate the compression qualitatively (10 points)\n",
    "\n",
    "Plot and compare the results of the random and FPS initialization methods, by setting the number of clusters to 4, 8, and 16 for both methods."
   ]
  },
  {
   "cell_type": "code",
   "execution_count": null,
   "metadata": {},
   "outputs": [],
   "source": [
    "# === Your code here ===\n",
    "# ======================"
   ]
  },
  {
   "cell_type": "markdown",
   "metadata": {
    "id": "b-trrrSqM0Tl"
   },
   "source": [
    "## Step 5: Evaluate the compression quantitatively (10 points)\n",
    "\n",
    "One way of evaluating compression quality is by computing the mean squared error (MSE) between the original image and the compressed image. The MSE is defined as the average of the squared differences between the original and compressed images.\n",
    "\n",
    "You're required to:\n",
    "\n",
    "1. Impelment a `mean_squared_error()` method to calculate the mean squared error.\n",
    "2. Compare the MSE for the random and FPS initialization methods, by setting the number of clusters to 4, 8, and 16 for both methods."
   ]
  },
  {
   "cell_type": "code",
   "execution_count": null,
   "metadata": {
    "colab": {
     "base_uri": "https://localhost:8080/"
    },
    "id": "9cvHO4JeMmaU",
    "outputId": "34badb13-6fcc-410c-b7a1-cf1ec9521c5e"
   },
   "outputs": [],
   "source": [
    "# === Your code here ===\n",
    "# ======================"
   ]
  }
 ],
 "metadata": {
  "anaconda-cloud": {},
  "colab": {
   "provenance": []
  },
  "jupytext": {
   "formats": "ipynb,md"
  },
  "kernelspec": {
   "display_name": "Python 3 (ipykernel)",
   "language": "python",
   "name": "python3"
  },
  "language_info": {
   "codemirror_mode": {
    "name": "ipython",
    "version": 3
   },
   "file_extension": ".py",
   "mimetype": "text/x-python",
   "name": "python",
   "nbconvert_exporter": "python",
   "pygments_lexer": "ipython3",
   "version": "3.9.18"
  }
 },
 "nbformat": 4,
 "nbformat_minor": 4
}
